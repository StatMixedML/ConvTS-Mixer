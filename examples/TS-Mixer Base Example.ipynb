{
 "cells": [
  {
   "cell_type": "markdown",
   "source": [
    "# Description\n",
    "\n",
    "This notebook only illustrates the workings of the base TS_Mixer, without additional static or dynamic features."
   ],
   "metadata": {
    "collapsed": false
   }
  },
  {
   "cell_type": "markdown",
   "source": [
    "# Imports"
   ],
   "metadata": {
    "collapsed": false
   }
  },
  {
   "cell_type": "code",
   "execution_count": 1,
   "metadata": {
    "collapsed": true
   },
   "outputs": [],
   "source": [
    "import torch\n",
    "from TSMixer.model import TS_Mixer"
   ]
  },
  {
   "cell_type": "markdown",
   "source": [
    "# Sample Data\n",
    "\n",
    "The following simulates a set of 3 time series, each with a length of 100. Hence, we treat the series as multiple univariate time series and set $C_x = 3$. For simplicity, we assume a batch size of 1. This notebook only illustrates the workings of the base TS_Mixer, without additional static or dynamic features."
   ],
   "metadata": {
    "collapsed": false
   }
  },
  {
   "cell_type": "code",
   "execution_count": 2,
   "outputs": [
    {
     "data": {
      "text/plain": "torch.Size([1, 100, 3])"
     },
     "execution_count": 2,
     "metadata": {},
     "output_type": "execute_result"
    }
   ],
   "source": [
    "torch.manual_seed(123)\n",
    "ts_sample = torch.randn(100,3)[None,:]\n",
    "ts_sample.shape"
   ],
   "metadata": {
    "collapsed": false
   }
  },
  {
   "cell_type": "markdown",
   "source": [
    "# TS-Mixer"
   ],
   "metadata": {
    "collapsed": false
   }
  },
  {
   "cell_type": "code",
   "execution_count": 3,
   "outputs": [
    {
     "data": {
      "text/plain": "torch.Size([1, 20, 3])"
     },
     "execution_count": 3,
     "metadata": {},
     "output_type": "execute_result"
    }
   ],
   "source": [
    "ts_mixer = TS_Mixer(in_channels=ts_sample.shape[2], ts_length=ts_sample.shape[1], embed_dim=64, num_blocks=1, fcst_h=20, dropout=0.1)\n",
    "x_ts_mixer = ts_mixer(ts_sample)\n",
    "x_ts_mixer.shape"
   ],
   "metadata": {
    "collapsed": false
   }
  },
  {
   "cell_type": "markdown",
   "source": [
    "# BatchNorm2d\n"
   ],
   "metadata": {
    "collapsed": false
   }
  },
  {
   "cell_type": "code",
   "execution_count": 4,
   "outputs": [
    {
     "data": {
      "text/plain": "torch.Size([1, 100, 3])"
     },
     "execution_count": 4,
     "metadata": {},
     "output_type": "execute_result"
    }
   ],
   "source": [
    "x = ts_sample\n",
    "ts_length = x.shape[1]\n",
    "\n",
    "# Reshape the data to [batch_size, ts_length, n_time_series, 1] for batch normalization\n",
    "x = x.unsqueeze(-1)\n",
    "\n",
    "# Compute batch normalization along the second dimension (i.e., time dimension)\n",
    "bn_time = torch.nn.BatchNorm2d(ts_length)\n",
    "x_bn = bn_time(x)\n",
    "\n",
    "# Reshape the data back to the original shape\n",
    "x_bn = x_bn.squeeze(-1)\n",
    "x_bn.shape"
   ],
   "metadata": {
    "collapsed": false
   }
  },
  {
   "cell_type": "code",
   "execution_count": 5,
   "outputs": [
    {
     "data": {
      "text/plain": "torch.Size([1, 100, 3])"
     },
     "execution_count": 5,
     "metadata": {},
     "output_type": "execute_result"
    }
   ],
   "source": [
    "x = ts_sample\n",
    "n_time_series = x.shape[2]\n",
    "\n",
    "# Reshape the data to [batch_size, n_time_series, ts_length, 1] for batch normalization\n",
    "x = x.transpose(1,2).unsqueeze(-1)\n",
    "\n",
    "# Compute batch normalization along the second dimension (i.e., feature dimension)\n",
    "bn_feat = torch.nn.BatchNorm2d(n_time_series)\n",
    "x_bn = bn_feat(x)\n",
    "\n",
    "# Reshape the data back to the original shape\n",
    "x_bn = x_bn.transpose(1,2).squeeze(-1)\n",
    "x_bn.shape"
   ],
   "metadata": {
    "collapsed": false
   }
  }
 ],
 "metadata": {
  "kernelspec": {
   "display_name": "Python 3",
   "language": "python",
   "name": "python3"
  },
  "language_info": {
   "codemirror_mode": {
    "name": "ipython",
    "version": 2
   },
   "file_extension": ".py",
   "mimetype": "text/x-python",
   "name": "python",
   "nbconvert_exporter": "python",
   "pygments_lexer": "ipython2",
   "version": "2.7.6"
  }
 },
 "nbformat": 4,
 "nbformat_minor": 0
}
