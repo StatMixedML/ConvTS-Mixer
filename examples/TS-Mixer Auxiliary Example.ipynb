{
 "cells": [
  {
   "cell_type": "markdown",
   "source": [
    "# Description\n",
    "\n",
    "This notebook only illustrates the workings of the auxiliary TS_Mixer model including static and dynamic features."
   ],
   "metadata": {
    "collapsed": false
   }
  },
  {
   "cell_type": "markdown",
   "source": [
    "# Imports"
   ],
   "metadata": {
    "collapsed": false
   }
  },
  {
   "cell_type": "code",
   "execution_count": 1,
   "outputs": [],
   "source": [
    "from TSMixer.model_auxiliary import *"
   ],
   "metadata": {
    "collapsed": false
   }
  },
  {
   "cell_type": "markdown",
   "source": [
    "# Sample Data"
   ],
   "metadata": {
    "collapsed": false
   }
  },
  {
   "cell_type": "code",
   "execution_count": 2,
   "outputs": [],
   "source": [
    "torch.manual_seed(123)\n",
    "fcst_h = 20\n",
    "out_dim = 2\n",
    "x = torch.randn(100,3)[None,:]\n",
    "z = torch.randn(fcst_h,2)[None,:]\n",
    "s = torch.ones_like(z)\n",
    "s[:,:, 1] = 2"
   ],
   "metadata": {
    "collapsed": false
   }
  },
  {
   "cell_type": "code",
   "execution_count": 3,
   "outputs": [],
   "source": [
    "n_ts = x.shape[2]\n",
    "n_static_feat = s.shape[2]\n",
    "n_dynamic_feat = z.shape[2]\n",
    "ts_length = x.shape[1]\n",
    "embed_dim = 64\n",
    "\n",
    "n_feat_sx = embed_dim + n_ts\n",
    "n_feat_sz = embed_dim + n_dynamic_feat"
   ],
   "metadata": {
    "collapsed": false
   }
  },
  {
   "cell_type": "markdown",
   "source": [
    "# TS-Mixer"
   ],
   "metadata": {
    "collapsed": false
   }
  },
  {
   "cell_type": "code",
   "execution_count": 11,
   "outputs": [
    {
     "name": "stdout",
     "output_type": "stream",
     "text": [
      "TS_Mixer_auxiliary(\n",
      "  (fc_map): Linear(in_features=100, out_features=20, bias=True)\n",
      "  (mlp_sx): MLP_Feat(\n",
      "    (mlp1): Sequential(\n",
      "      (0): Linear(in_features=2, out_features=64, bias=True)\n",
      "      (1): ReLU()\n",
      "      (2): Dropout(p=0.1, inplace=False)\n",
      "    )\n",
      "    (mlp2): Sequential(\n",
      "      (0): Linear(in_features=64, out_features=64, bias=True)\n",
      "      (1): Dropout(p=0.1, inplace=False)\n",
      "    )\n",
      "    (projector): Linear(in_features=2, out_features=64, bias=True)\n",
      "    (bn): BatchNorm1d(64, eps=1e-05, momentum=0.1, affine=True, track_running_stats=True)\n",
      "  )\n",
      "  (mlp_sz): MLP_Feat(\n",
      "    (mlp1): Sequential(\n",
      "      (0): Linear(in_features=2, out_features=64, bias=True)\n",
      "      (1): ReLU()\n",
      "      (2): Dropout(p=0.1, inplace=False)\n",
      "    )\n",
      "    (mlp2): Sequential(\n",
      "      (0): Linear(in_features=64, out_features=64, bias=True)\n",
      "      (1): Dropout(p=0.1, inplace=False)\n",
      "    )\n",
      "    (projector): Linear(in_features=2, out_features=64, bias=True)\n",
      "    (bn): BatchNorm1d(64, eps=1e-05, momentum=0.1, affine=True, track_running_stats=True)\n",
      "  )\n",
      "  (mlp_x): MLP_Feat(\n",
      "    (mlp1): Sequential(\n",
      "      (0): Linear(in_features=67, out_features=64, bias=True)\n",
      "      (1): ReLU()\n",
      "      (2): Dropout(p=0.1, inplace=False)\n",
      "    )\n",
      "    (mlp2): Sequential(\n",
      "      (0): Linear(in_features=64, out_features=64, bias=True)\n",
      "      (1): Dropout(p=0.1, inplace=False)\n",
      "    )\n",
      "    (projector): Linear(in_features=67, out_features=64, bias=True)\n",
      "    (bn): BatchNorm1d(64, eps=1e-05, momentum=0.1, affine=True, track_running_stats=True)\n",
      "  )\n",
      "  (mlp_z): MLP_Feat(\n",
      "    (mlp1): Sequential(\n",
      "      (0): Linear(in_features=66, out_features=64, bias=True)\n",
      "      (1): ReLU()\n",
      "      (2): Dropout(p=0.1, inplace=False)\n",
      "    )\n",
      "    (mlp2): Sequential(\n",
      "      (0): Linear(in_features=64, out_features=64, bias=True)\n",
      "      (1): Dropout(p=0.1, inplace=False)\n",
      "    )\n",
      "    (projector): Linear(in_features=66, out_features=64, bias=True)\n",
      "    (bn): BatchNorm1d(64, eps=1e-05, momentum=0.1, affine=True, track_running_stats=True)\n",
      "  )\n",
      "  (mixer_blocks): Mixer(\n",
      "    (mixer_blocks): ModuleList(\n",
      "      (0-1): 2 x Mixer_Block(\n",
      "        (mlp_time): MLP_Time(\n",
      "          (bn): BatchNorm1d(20, eps=1e-05, momentum=0.1, affine=True, track_running_stats=True)\n",
      "          (time_mlp): Sequential(\n",
      "            (0): Linear(in_features=20, out_features=20, bias=True)\n",
      "            (1): ReLU()\n",
      "            (2): Dropout(p=0.1, inplace=False)\n",
      "          )\n",
      "        )\n",
      "        (mlp_s): MLP_Feat(\n",
      "          (mlp1): Sequential(\n",
      "            (0): Linear(in_features=2, out_features=64, bias=True)\n",
      "            (1): ReLU()\n",
      "            (2): Dropout(p=0.1, inplace=False)\n",
      "          )\n",
      "          (mlp2): Sequential(\n",
      "            (0): Linear(in_features=64, out_features=64, bias=True)\n",
      "            (1): Dropout(p=0.1, inplace=False)\n",
      "          )\n",
      "          (projector): Linear(in_features=2, out_features=64, bias=True)\n",
      "          (bn): BatchNorm1d(64, eps=1e-05, momentum=0.1, affine=True, track_running_stats=True)\n",
      "        )\n",
      "        (mlp_feat): MLP_Feat(\n",
      "          (batch_norm): BatchNorm1d(192, eps=1e-05, momentum=0.1, affine=True, track_running_stats=True)\n",
      "          (feat_mlp1): Sequential(\n",
      "            (0): Linear(in_features=192, out_features=64, bias=True)\n",
      "            (1): ReLU()\n",
      "            (2): Dropout(p=0.1, inplace=False)\n",
      "          )\n",
      "          (feat_mlp2): Sequential(\n",
      "            (0): Linear(in_features=64, out_features=192, bias=True)\n",
      "            (1): Dropout(p=0.1, inplace=False)\n",
      "          )\n",
      "        )\n",
      "        (projector): Linear(in_features=192, out_features=128, bias=True)\n",
      "      )\n",
      "    )\n",
      "  )\n",
      "  (mlp_out): Linear(in_features=128, out_features=2, bias=True)\n",
      "  (layer_norm): LayerNorm((2,), eps=1e-05, elementwise_affine=True)\n",
      ")\n"
     ]
    }
   ],
   "source": [
    "num_blocks=2\n",
    "out_dim=2\n",
    "ts_mixer_aux = TS_Mixer_auxiliary(n_ts, n_static_feat, n_dynamic_feat, ts_length, embed_dim, num_blocks, fcst_h, out_dim, dropout=0.1)\n",
    "out = ts_mixer_aux(x, z, s)\n",
    "print(ts_mixer_aux)"
   ],
   "metadata": {
    "collapsed": false
   }
  }
 ],
 "metadata": {
  "kernelspec": {
   "display_name": "Python 3",
   "language": "python",
   "name": "python3"
  },
  "language_info": {
   "codemirror_mode": {
    "name": "ipython",
    "version": 2
   },
   "file_extension": ".py",
   "mimetype": "text/x-python",
   "name": "python",
   "nbconvert_exporter": "python",
   "pygments_lexer": "ipython2",
   "version": "2.7.6"
  }
 },
 "nbformat": 4,
 "nbformat_minor": 0
}
