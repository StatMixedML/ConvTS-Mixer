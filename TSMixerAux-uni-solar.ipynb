{
 "cells": [
  {
   "cell_type": "code",
   "execution_count": 1,
   "id": "bba619e8",
   "metadata": {},
   "outputs": [],
   "source": [
    "from itertools import islice\n",
    "%matplotlib inline\n",
    "from matplotlib import pyplot as plt\n",
    "import matplotlib.dates as mdates"
   ]
  },
  {
   "cell_type": "code",
   "execution_count": 2,
   "id": "f19b0e22",
   "metadata": {},
   "outputs": [],
   "source": [
    "from gluonts.dataset.repository.datasets import get_dataset\n",
    "from gluonts.dataset.common import ListDataset\n",
    "from gluonts.evaluation import make_evaluation_predictions, Evaluator\n",
    "from gluonts.torch.distributions import NegativeBinomialOutput\n",
    "from gluonts.torch.modules.loss import NegativeLogLikelihood\n",
    "\n",
    "from TSMixer_Auxiliary import TSMixerEstimator"
   ]
  },
  {
   "cell_type": "code",
   "execution_count": 3,
   "id": "c5f6bba5",
   "metadata": {},
   "outputs": [],
   "source": [
    "dataset = get_dataset(\"solar-energy\", regenerate=False)"
   ]
  },
  {
   "cell_type": "code",
   "execution_count": 4,
   "outputs": [
    {
     "data": {
      "text/plain": "{'target': array([0., 0., 0., ..., 0., 0., 0.], dtype=float32),\n 'start': Period('2006-01-01 00:00', 'H'),\n 'feat_static_cat': array([0]),\n 'item_id': 0}"
     },
     "execution_count": 4,
     "metadata": {},
     "output_type": "execute_result"
    }
   ],
   "source": [
    "list(dataset.train)[0]"
   ],
   "metadata": {
    "collapsed": false
   }
  },
  {
   "cell_type": "code",
   "execution_count": 8,
   "id": "98a007c9",
   "metadata": {},
   "outputs": [],
   "source": [
    "estimator = TSMixerEstimator(\n",
    "    prediction_length=dataset.metadata.prediction_length,\n",
    "    context_length=dataset.metadata.prediction_length*4,\n",
    "    freq=dataset.metadata.freq,\n",
    "    scaling=\"std\",\n",
    "\n",
    "    # hidden_size=64,\n",
    "    n_blocks=5,\n",
    "    num_feat_static_cat=1,\n",
    "    cardinality=[len(list(dataset.train))],\n",
    "    \n",
    "    batch_size=128,\n",
    "    num_batches_per_epoch=100,\n",
    "    trainer_kwargs=dict(accelerator=\"gpu\", max_epochs=20)\n",
    ")"
   ]
  },
  {
   "cell_type": "code",
   "execution_count": 9,
   "id": "c30625db",
   "metadata": {},
   "outputs": [
    {
     "ename": "AssertionError",
     "evalue": "",
     "output_type": "error",
     "traceback": [
      "\u001B[1;31m---------------------------------------------------------------------------\u001B[0m",
      "\u001B[1;31mAssertionError\u001B[0m                            Traceback (most recent call last)",
      "Cell \u001B[1;32mIn[9], line 1\u001B[0m\n\u001B[1;32m----> 1\u001B[0m predictor \u001B[38;5;241m=\u001B[39m \u001B[43mestimator\u001B[49m\u001B[38;5;241;43m.\u001B[39;49m\u001B[43mtrain\u001B[49m\u001B[43m(\u001B[49m\n\u001B[0;32m      2\u001B[0m \u001B[43m    \u001B[49m\u001B[43mtraining_data\u001B[49m\u001B[38;5;241;43m=\u001B[39;49m\u001B[43mdataset\u001B[49m\u001B[38;5;241;43m.\u001B[39;49m\u001B[43mtrain\u001B[49m\u001B[43m,\u001B[49m\u001B[43m \u001B[49m\n\u001B[0;32m      3\u001B[0m \u001B[43m    \u001B[49m\u001B[43mcache_data\u001B[49m\u001B[38;5;241;43m=\u001B[39;49m\u001B[38;5;28;43;01mTrue\u001B[39;49;00m\u001B[43m,\u001B[49m\u001B[43m \u001B[49m\n\u001B[0;32m      4\u001B[0m \u001B[43m    \u001B[49m\u001B[43mshuffle_buffer_length\u001B[49m\u001B[38;5;241;43m=\u001B[39;49m\u001B[38;5;241;43m1024\u001B[39;49m\u001B[43m,\u001B[49m\u001B[43m \u001B[49m\n\u001B[0;32m      5\u001B[0m \u001B[43m    \u001B[49m\u001B[43mvalidation_data\u001B[49m\u001B[38;5;241;43m=\u001B[39;49m\u001B[43mdataset\u001B[49m\u001B[38;5;241;43m.\u001B[39;49m\u001B[43mtest\u001B[49m\n\u001B[0;32m      6\u001B[0m \u001B[43m)\u001B[49m\n",
      "File \u001B[1;32m~\\.virtualenvs\\ConvTS_Mixer-3Rl3B8jo\\lib\\site-packages\\gluonts\\torch\\model\\estimator.py:239\u001B[0m, in \u001B[0;36mPyTorchLightningEstimator.train\u001B[1;34m(self, training_data, validation_data, shuffle_buffer_length, cache_data, ckpt_path, **kwargs)\u001B[0m\n\u001B[0;32m    230\u001B[0m \u001B[38;5;28;01mdef\u001B[39;00m \u001B[38;5;21mtrain\u001B[39m(\n\u001B[0;32m    231\u001B[0m     \u001B[38;5;28mself\u001B[39m,\n\u001B[0;32m    232\u001B[0m     training_data: Dataset,\n\u001B[1;32m   (...)\u001B[0m\n\u001B[0;32m    237\u001B[0m     \u001B[38;5;241m*\u001B[39m\u001B[38;5;241m*\u001B[39mkwargs,\n\u001B[0;32m    238\u001B[0m ) \u001B[38;5;241m-\u001B[39m\u001B[38;5;241m>\u001B[39m PyTorchPredictor:\n\u001B[1;32m--> 239\u001B[0m     \u001B[38;5;28;01mreturn\u001B[39;00m \u001B[38;5;28;43mself\u001B[39;49m\u001B[38;5;241;43m.\u001B[39;49m\u001B[43mtrain_model\u001B[49m\u001B[43m(\u001B[49m\n\u001B[0;32m    240\u001B[0m \u001B[43m        \u001B[49m\u001B[43mtraining_data\u001B[49m\u001B[43m,\u001B[49m\n\u001B[0;32m    241\u001B[0m \u001B[43m        \u001B[49m\u001B[43mvalidation_data\u001B[49m\u001B[43m,\u001B[49m\n\u001B[0;32m    242\u001B[0m \u001B[43m        \u001B[49m\u001B[43mshuffle_buffer_length\u001B[49m\u001B[38;5;241;43m=\u001B[39;49m\u001B[43mshuffle_buffer_length\u001B[49m\u001B[43m,\u001B[49m\n\u001B[0;32m    243\u001B[0m \u001B[43m        \u001B[49m\u001B[43mcache_data\u001B[49m\u001B[38;5;241;43m=\u001B[39;49m\u001B[43mcache_data\u001B[49m\u001B[43m,\u001B[49m\n\u001B[0;32m    244\u001B[0m \u001B[43m        \u001B[49m\u001B[43mckpt_path\u001B[49m\u001B[38;5;241;43m=\u001B[39;49m\u001B[43mckpt_path\u001B[49m\u001B[43m,\u001B[49m\n\u001B[0;32m    245\u001B[0m \u001B[43m    \u001B[49m\u001B[43m)\u001B[49m\u001B[38;5;241m.\u001B[39mpredictor\n",
      "File \u001B[1;32m~\\.virtualenvs\\ConvTS_Mixer-3Rl3B8jo\\lib\\site-packages\\gluonts\\torch\\model\\estimator.py:156\u001B[0m, in \u001B[0;36mPyTorchLightningEstimator.train_model\u001B[1;34m(self, training_data, validation_data, from_predictor, shuffle_buffer_length, cache_data, ckpt_path, **kwargs)\u001B[0m\n\u001B[0;32m    146\u001B[0m \u001B[38;5;28;01mdef\u001B[39;00m \u001B[38;5;21mtrain_model\u001B[39m(\n\u001B[0;32m    147\u001B[0m     \u001B[38;5;28mself\u001B[39m,\n\u001B[0;32m    148\u001B[0m     training_data: Dataset,\n\u001B[1;32m   (...)\u001B[0m\n\u001B[0;32m    154\u001B[0m     \u001B[38;5;241m*\u001B[39m\u001B[38;5;241m*\u001B[39mkwargs,\n\u001B[0;32m    155\u001B[0m ) \u001B[38;5;241m-\u001B[39m\u001B[38;5;241m>\u001B[39m TrainOutput:\n\u001B[1;32m--> 156\u001B[0m     transformation \u001B[38;5;241m=\u001B[39m \u001B[38;5;28;43mself\u001B[39;49m\u001B[38;5;241;43m.\u001B[39;49m\u001B[43mcreate_transformation\u001B[49m\u001B[43m(\u001B[49m\u001B[43m)\u001B[49m\n\u001B[0;32m    158\u001B[0m     \u001B[38;5;28;01mwith\u001B[39;00m env\u001B[38;5;241m.\u001B[39m_let(max_idle_transforms\u001B[38;5;241m=\u001B[39m\u001B[38;5;28mmax\u001B[39m(\u001B[38;5;28mlen\u001B[39m(training_data), \u001B[38;5;241m100\u001B[39m)):\n\u001B[0;32m    159\u001B[0m         transformed_training_data \u001B[38;5;241m=\u001B[39m transformation\u001B[38;5;241m.\u001B[39mapply(\n\u001B[0;32m    160\u001B[0m             training_data, is_train\u001B[38;5;241m=\u001B[39m\u001B[38;5;28;01mTrue\u001B[39;00m\n\u001B[0;32m    161\u001B[0m         )\n",
      "File \u001B[1;32m~\\OneDrive - adidas\\ConvTS Mixer\\TSMixer_Auxiliary\\estimator.py:197\u001B[0m, in \u001B[0;36mTSMixerEstimator.create_transformation\u001B[1;34m(self)\u001B[0m\n\u001B[0;32m    193\u001B[0m \u001B[38;5;28;01mif\u001B[39;00m \u001B[38;5;28mself\u001B[39m\u001B[38;5;241m.\u001B[39mnum_feat_dynamic_real \u001B[38;5;241m==\u001B[39m \u001B[38;5;241m0\u001B[39m:\n\u001B[0;32m    194\u001B[0m     remove_field_names\u001B[38;5;241m.\u001B[39mappend(FieldName\u001B[38;5;241m.\u001B[39mFEAT_DYNAMIC_REAL)\n\u001B[0;32m    196\u001B[0m \u001B[38;5;28;01mreturn\u001B[39;00m (\n\u001B[1;32m--> 197\u001B[0m     \u001B[43mRemoveFields\u001B[49m\u001B[43m(\u001B[49m\u001B[43mfield_names\u001B[49m\u001B[38;5;241;43m=\u001B[39;49m\u001B[43mremove_field_names\u001B[49m\u001B[43m)\u001B[49m\n\u001B[0;32m    198\u001B[0m \u001B[43m    \u001B[49m\u001B[38;5;241;43m+\u001B[39;49m\u001B[43m \u001B[49m\u001B[43m(\u001B[49m\n\u001B[0;32m    199\u001B[0m \u001B[43m        \u001B[49m\u001B[43mSetField\u001B[49m\u001B[43m(\u001B[49m\u001B[43moutput_field\u001B[49m\u001B[38;5;241;43m=\u001B[39;49m\u001B[43mFieldName\u001B[49m\u001B[38;5;241;43m.\u001B[39;49m\u001B[43mFEAT_STATIC_CAT\u001B[49m\u001B[43m,\u001B[49m\u001B[43m \u001B[49m\u001B[43mvalue\u001B[49m\u001B[38;5;241;43m=\u001B[39;49m\u001B[43m[\u001B[49m\u001B[38;5;241;43m0\u001B[39;49m\u001B[43m]\u001B[49m\u001B[43m)\u001B[49m\n\u001B[0;32m    200\u001B[0m \u001B[43m        \u001B[49m\u001B[38;5;28;43;01mif\u001B[39;49;00m\u001B[43m \u001B[49m\u001B[38;5;129;43;01mnot\u001B[39;49;00m\u001B[43m \u001B[49m\u001B[38;5;28;43mself\u001B[39;49m\u001B[38;5;241;43m.\u001B[39;49m\u001B[43mnum_feat_static_cat\u001B[49m\u001B[43m \u001B[49m\u001B[38;5;241;43m>\u001B[39;49m\u001B[43m \u001B[49m\u001B[38;5;241;43m0\u001B[39;49m\n\u001B[0;32m    201\u001B[0m \u001B[43m        \u001B[49m\u001B[38;5;28;43;01melse\u001B[39;49;00m\u001B[43m \u001B[49m\u001B[43m[\u001B[49m\u001B[43m]\u001B[49m\n\u001B[0;32m    202\u001B[0m \u001B[43m    \u001B[49m\u001B[43m)\u001B[49m\n\u001B[0;32m    203\u001B[0m     \u001B[38;5;241m+\u001B[39m (\n\u001B[0;32m    204\u001B[0m         SetField(output_field\u001B[38;5;241m=\u001B[39mFieldName\u001B[38;5;241m.\u001B[39mFEAT_STATIC_REAL, value\u001B[38;5;241m=\u001B[39m[\u001B[38;5;241m0.0\u001B[39m])\n\u001B[0;32m    205\u001B[0m         \u001B[38;5;28;01mif\u001B[39;00m \u001B[38;5;129;01mnot\u001B[39;00m \u001B[38;5;28mself\u001B[39m\u001B[38;5;241m.\u001B[39mnum_feat_static_real \u001B[38;5;241m>\u001B[39m \u001B[38;5;241m0\u001B[39m\n\u001B[0;32m    206\u001B[0m         \u001B[38;5;28;01melse\u001B[39;00m []\n\u001B[0;32m    207\u001B[0m     )\n\u001B[0;32m    208\u001B[0m     \u001B[38;5;241m+\u001B[39m AsNumpyArray(\n\u001B[0;32m    209\u001B[0m         field\u001B[38;5;241m=\u001B[39mFieldName\u001B[38;5;241m.\u001B[39mFEAT_STATIC_CAT,\n\u001B[0;32m    210\u001B[0m         expected_ndim\u001B[38;5;241m=\u001B[39m\u001B[38;5;241m1\u001B[39m,\n\u001B[0;32m    211\u001B[0m         dtype\u001B[38;5;241m=\u001B[39m\u001B[38;5;28mint\u001B[39m,\n\u001B[0;32m    212\u001B[0m     )\n\u001B[0;32m    213\u001B[0m     \u001B[38;5;241m+\u001B[39m AsNumpyArray(\n\u001B[0;32m    214\u001B[0m         field\u001B[38;5;241m=\u001B[39mFieldName\u001B[38;5;241m.\u001B[39mFEAT_STATIC_REAL,\n\u001B[0;32m    215\u001B[0m         expected_ndim\u001B[38;5;241m=\u001B[39m\u001B[38;5;241m1\u001B[39m,\n\u001B[0;32m    216\u001B[0m     )\n\u001B[0;32m    217\u001B[0m     \u001B[38;5;241m+\u001B[39m AddTimeFeatures(\n\u001B[0;32m    218\u001B[0m         start_field\u001B[38;5;241m=\u001B[39mFieldName\u001B[38;5;241m.\u001B[39mSTART,\n\u001B[0;32m    219\u001B[0m         target_field\u001B[38;5;241m=\u001B[39mFieldName\u001B[38;5;241m.\u001B[39mTARGET,\n\u001B[0;32m    220\u001B[0m         output_field\u001B[38;5;241m=\u001B[39mFieldName\u001B[38;5;241m.\u001B[39mFEAT_TIME,\n\u001B[0;32m    221\u001B[0m         time_features\u001B[38;5;241m=\u001B[39m\u001B[38;5;28mself\u001B[39m\u001B[38;5;241m.\u001B[39mtime_features,\n\u001B[0;32m    222\u001B[0m         pred_length\u001B[38;5;241m=\u001B[39m\u001B[38;5;28mself\u001B[39m\u001B[38;5;241m.\u001B[39mprediction_length,\n\u001B[0;32m    223\u001B[0m     )\n\u001B[0;32m    224\u001B[0m     \u001B[38;5;241m+\u001B[39m AddAgeFeature(\n\u001B[0;32m    225\u001B[0m         target_field\u001B[38;5;241m=\u001B[39mFieldName\u001B[38;5;241m.\u001B[39mTARGET,\n\u001B[0;32m    226\u001B[0m         output_field\u001B[38;5;241m=\u001B[39mFieldName\u001B[38;5;241m.\u001B[39mFEAT_AGE,\n\u001B[0;32m    227\u001B[0m         pred_length\u001B[38;5;241m=\u001B[39m\u001B[38;5;28mself\u001B[39m\u001B[38;5;241m.\u001B[39mprediction_length,\n\u001B[0;32m    228\u001B[0m         log_scale\u001B[38;5;241m=\u001B[39m\u001B[38;5;28;01mTrue\u001B[39;00m,\n\u001B[0;32m    229\u001B[0m     )\n\u001B[0;32m    230\u001B[0m     \u001B[38;5;241m+\u001B[39m VstackFeatures(\n\u001B[0;32m    231\u001B[0m         output_field\u001B[38;5;241m=\u001B[39mFieldName\u001B[38;5;241m.\u001B[39mFEAT_TIME,\n\u001B[0;32m    232\u001B[0m         input_fields\u001B[38;5;241m=\u001B[39m[FieldName\u001B[38;5;241m.\u001B[39mFEAT_TIME, FieldName\u001B[38;5;241m.\u001B[39mFEAT_AGE]\n\u001B[0;32m    233\u001B[0m         \u001B[38;5;241m+\u001B[39m (\n\u001B[0;32m    234\u001B[0m             [FieldName\u001B[38;5;241m.\u001B[39mFEAT_DYNAMIC_REAL]\n\u001B[0;32m    235\u001B[0m             \u001B[38;5;28;01mif\u001B[39;00m \u001B[38;5;28mself\u001B[39m\u001B[38;5;241m.\u001B[39mnum_feat_dynamic_real \u001B[38;5;241m>\u001B[39m \u001B[38;5;241m0\u001B[39m\n\u001B[0;32m    236\u001B[0m             \u001B[38;5;28;01melse\u001B[39;00m []\n\u001B[0;32m    237\u001B[0m         ),\n\u001B[0;32m    238\u001B[0m     )\n\u001B[0;32m    239\u001B[0m     \u001B[38;5;241m+\u001B[39m AddObservedValuesIndicator(\n\u001B[0;32m    240\u001B[0m         target_field\u001B[38;5;241m=\u001B[39mFieldName\u001B[38;5;241m.\u001B[39mTARGET,\n\u001B[0;32m    241\u001B[0m         output_field\u001B[38;5;241m=\u001B[39mFieldName\u001B[38;5;241m.\u001B[39mOBSERVED_VALUES,\n\u001B[0;32m    242\u001B[0m     )\n\u001B[0;32m    243\u001B[0m )\n",
      "File \u001B[1;32m~\\.virtualenvs\\ConvTS_Mixer-3Rl3B8jo\\lib\\site-packages\\gluonts\\transform\\_base.py:40\u001B[0m, in \u001B[0;36mTransformation.__add__\u001B[1;34m(self, other)\u001B[0m\n\u001B[0;32m     39\u001B[0m \u001B[38;5;28;01mdef\u001B[39;00m \u001B[38;5;21m__add__\u001B[39m(\u001B[38;5;28mself\u001B[39m, other: \u001B[38;5;124m\"\u001B[39m\u001B[38;5;124mTransformation\u001B[39m\u001B[38;5;124m\"\u001B[39m) \u001B[38;5;241m-\u001B[39m\u001B[38;5;241m>\u001B[39m \u001B[38;5;124m\"\u001B[39m\u001B[38;5;124mChain\u001B[39m\u001B[38;5;124m\"\u001B[39m:\n\u001B[1;32m---> 40\u001B[0m     \u001B[38;5;28;01mreturn\u001B[39;00m \u001B[38;5;28;43mself\u001B[39;49m\u001B[38;5;241;43m.\u001B[39;49m\u001B[43mchain\u001B[49m\u001B[43m(\u001B[49m\u001B[43mother\u001B[49m\u001B[43m)\u001B[49m\n",
      "File \u001B[1;32m~\\.virtualenvs\\ConvTS_Mixer-3Rl3B8jo\\lib\\site-packages\\gluonts\\transform\\_base.py:37\u001B[0m, in \u001B[0;36mTransformation.chain\u001B[1;34m(self, other)\u001B[0m\n\u001B[0;32m     36\u001B[0m \u001B[38;5;28;01mdef\u001B[39;00m \u001B[38;5;21mchain\u001B[39m(\u001B[38;5;28mself\u001B[39m, other: \u001B[38;5;124m\"\u001B[39m\u001B[38;5;124mTransformation\u001B[39m\u001B[38;5;124m\"\u001B[39m) \u001B[38;5;241m-\u001B[39m\u001B[38;5;241m>\u001B[39m \u001B[38;5;124m\"\u001B[39m\u001B[38;5;124mChain\u001B[39m\u001B[38;5;124m\"\u001B[39m:\n\u001B[1;32m---> 37\u001B[0m     \u001B[38;5;28;01mreturn\u001B[39;00m \u001B[43mChain\u001B[49m\u001B[43m(\u001B[49m\u001B[43m[\u001B[49m\u001B[38;5;28;43mself\u001B[39;49m\u001B[43m,\u001B[49m\u001B[43m \u001B[49m\u001B[43mother\u001B[49m\u001B[43m]\u001B[49m\u001B[43m)\u001B[49m\n",
      "File \u001B[1;32m<string>:4\u001B[0m, in \u001B[0;36m__init__\u001B[1;34m(self, transformations)\u001B[0m\n",
      "File \u001B[1;32m~\\.virtualenvs\\ConvTS_Mixer-3Rl3B8jo\\lib\\site-packages\\gluonts\\transform\\_base.py:65\u001B[0m, in \u001B[0;36mChain.__post_init__\u001B[1;34m(self)\u001B[0m\n\u001B[0;32m     63\u001B[0m         transformations\u001B[38;5;241m.\u001B[39mextend(transformation\u001B[38;5;241m.\u001B[39mtransformations)\n\u001B[0;32m     64\u001B[0m     \u001B[38;5;28;01melse\u001B[39;00m:\n\u001B[1;32m---> 65\u001B[0m         \u001B[38;5;28;01massert\u001B[39;00m \u001B[38;5;28misinstance\u001B[39m(transformation, Transformation)\n\u001B[0;32m     66\u001B[0m         transformations\u001B[38;5;241m.\u001B[39mappend(transformation)\n\u001B[0;32m     68\u001B[0m \u001B[38;5;28mself\u001B[39m\u001B[38;5;241m.\u001B[39mtransformations \u001B[38;5;241m=\u001B[39m transformations\n",
      "\u001B[1;31mAssertionError\u001B[0m: "
     ]
    }
   ],
   "source": [
    "predictor = estimator.train(\n",
    "    training_data=dataset.train, \n",
    "    cache_data=True, \n",
    "    shuffle_buffer_length=1024, \n",
    "    validation_data=dataset.test\n",
    ")"
   ]
  },
  {
   "cell_type": "code",
   "execution_count": null,
   "id": "3426e0bc",
   "metadata": {},
   "outputs": [],
   "source": [
    "forecast_it, ts_it = make_evaluation_predictions(\n",
    "    dataset=dataset.test,\n",
    "    predictor=predictor,\n",
    ")"
   ]
  },
  {
   "cell_type": "code",
   "execution_count": null,
   "id": "7567d948",
   "metadata": {},
   "outputs": [],
   "source": [
    "forecasts = list(forecast_it)"
   ]
  },
  {
   "cell_type": "code",
   "execution_count": null,
   "id": "94bd4ec0",
   "metadata": {},
   "outputs": [],
   "source": [
    "tss = list(ts_it)"
   ]
  },
  {
   "cell_type": "code",
   "execution_count": null,
   "id": "b96e5127",
   "metadata": {},
   "outputs": [],
   "source": [
    "evaluator = Evaluator()"
   ]
  },
  {
   "cell_type": "code",
   "execution_count": null,
   "id": "f5946f54",
   "metadata": {},
   "outputs": [],
   "source": [
    "agg_metrics, ts_metrics = evaluator(iter(tss), iter(forecasts))"
   ]
  },
  {
   "cell_type": "code",
   "execution_count": null,
   "id": "d5a6367c",
   "metadata": {},
   "outputs": [],
   "source": [
    "agg_metrics"
   ]
  },
  {
   "cell_type": "code",
   "execution_count": null,
   "id": "dfd2ad06",
   "metadata": {},
   "outputs": [],
   "source": [
    "plt.figure(figsize=(20, 15))\n",
    "date_formater = mdates.DateFormatter('%b, %d')\n",
    "plt.rcParams.update({'font.size': 15})\n",
    "\n",
    "for idx, (forecast, ts) in islice(enumerate(zip(forecasts, tss)), 9):\n",
    "    ax = plt.subplot(3, 3, idx+1)\n",
    "\n",
    "    plt.plot(ts[-4 * dataset.metadata.prediction_length:].to_timestamp(), label=\"target\", )\n",
    "    forecast.plot( color='g')\n",
    "    plt.xticks(rotation=60)\n",
    "    ax.xaxis.set_major_formatter(date_formater)\n",
    "    ax.set_title(forecast.item_id)\n",
    "\n",
    "plt.gcf().tight_layout()\n",
    "plt.legend()\n",
    "plt.show()"
   ]
  }
 ],
 "metadata": {
  "kernelspec": {
   "display_name": "Python 3 (ipykernel)",
   "language": "python",
   "name": "python3"
  },
  "language_info": {
   "codemirror_mode": {
    "name": "ipython",
    "version": 3
   },
   "file_extension": ".py",
   "mimetype": "text/x-python",
   "name": "python",
   "nbconvert_exporter": "python",
   "pygments_lexer": "ipython3",
   "version": "3.10.10"
  }
 },
 "nbformat": 4,
 "nbformat_minor": 5
}
