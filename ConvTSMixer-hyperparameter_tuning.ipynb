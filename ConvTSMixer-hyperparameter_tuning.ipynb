{
 "cells": [
  {
   "cell_type": "code",
   "execution_count": 1,
   "id": "86ff733d-8ea7-4d77-8d2a-cd329ab8f385",
   "metadata": {
    "tags": []
   },
   "outputs": [],
   "source": [
    "import matplotlib.pyplot as plt\n",
    "import numpy as np\n",
    "import pandas as pd\n",
    "\n",
    "import torch\n",
    "\n",
    "from gluonts.dataset.multivariate_grouper import MultivariateGrouper\n",
    "from gluonts.dataset.repository.datasets import dataset_recipes, get_dataset\n",
    "from gluonts.evaluation.backtest import make_evaluation_predictions\n",
    "from gluonts.evaluation import MultivariateEvaluator\n",
    "\n",
    "#from pts.modules import StudentTOutput\n",
    "\n",
    "from ConvTSMixer import ConvTSMixerEstimator\n",
    "import random\n",
    "import numpy as np\n",
    "import time\n",
    "import optuna"
   ]
  },
  {
   "cell_type": "code",
   "execution_count": 2,
   "id": "944676b0-2a9f-4301-92e6-f382f5693639",
   "metadata": {
    "tags": []
   },
   "outputs": [],
   "source": [
    "class ConvTSMixerObjective:  \n",
    "    def __init__(self, dataset, train_grouper, test_grouper, metric_type=\"m_sum_mean_wQuantileLoss\"):\n",
    "        self.metric_type = metric_type\n",
    "        self.dataset = dataset\n",
    "        self.dataset_train = train_grouper(self.dataset.train)\n",
    "        self.dataset_test = test_grouper(self.dataset.test)\n",
    "    \n",
    "    def get_params(self, trial) -> dict:\n",
    "        return {\n",
    "        \"context_length\": trial.suggest_int(\"context_length\", dataset.metadata.prediction_length, dataset.metadata.prediction_length*10,4),\n",
    "        \"batch_size\": trial.suggest_int(\"batch_size\", 128, 256, 64),\n",
    "        \"depth\": trial.suggest_int(\"depth\", 2, 16,4),\n",
    "        \"dim\": trial.suggest_int(\"dim\", 16, 64, 16),\n",
    "        \"patch_size\": trial.suggest_int(\"dim\", 2, 16,4),\n",
    "         \"kernel_size\": trial.suggest_int(\"dim\", 9, 18, 3),\n",
    "        }\n",
    "     \n",
    "    def __call__(self, trial):\n",
    "        params = self.get_params(trial)\n",
    "        estimator = estimator = ConvTSMixerEstimator(\n",
    "            #distr_output=StudentTOutput(dim=int(dataset.metadata.feat_static_cat[0].cardinality)),\n",
    "            input_size=int(self.dataset.metadata.feat_static_cat[0].cardinality),\n",
    "\n",
    "            prediction_length=self.dataset.metadata.prediction_length,\n",
    "            context_length=self.dataset.metadata.prediction_length*5,\n",
    "            freq=self.dataset.metadata.freq,\n",
    "            scaling=\"std\",\n",
    "\n",
    "            depth=params[\"depth\"],\n",
    "            patch_size=(params[\"patch_size\"], params[\"patch_size\"]),\n",
    "            kernel_size=params[\"kernel_size\"],\n",
    "            dim=params[\"dim\"],\n",
    "\n",
    "            batch_size=params[\"batch_size\"],\n",
    "            num_batches_per_epoch=100,\n",
    "            trainer_kwargs=dict(accelerator=\"cuda\", max_epochs=30)\n",
    "        )\n",
    "        predictor = estimator.train(\n",
    "        training_data=self.dataset_train,\n",
    "        num_workers=8,\n",
    "        shuffle_buffer_length=1024\n",
    "        )\n",
    "        \n",
    "        forecast_it, ts_it = make_evaluation_predictions(dataset=self.dataset_test,\n",
    "                                             predictor=predictor,\n",
    "                                             num_samples=100)\n",
    "        forecasts = list(forecast_it)\n",
    "        tss = list(ts_it)\n",
    "        evaluator = MultivariateEvaluator(quantiles=(np.arange(20)/20.0)[1:],\n",
    "                                  target_agg_funcs={'sum': np.sum})\n",
    "        agg_metrics, _ = evaluator(iter(tss), iter(forecasts))\n",
    "        return agg_metrics[self.metric_type]"
   ]
  },
  {
   "cell_type": "code",
   "execution_count": 3,
   "id": "d6c1da22-755e-44d5-86b6-10465d8c25e8",
   "metadata": {
    "tags": []
   },
   "outputs": [],
   "source": [
    "dataset = get_dataset(\"solar_nips\", regenerate=False)\n",
    "train_grouper = MultivariateGrouper(max_target_dim=int(dataset.metadata.feat_static_cat[0].cardinality))\n",
    "\n",
    "test_grouper = MultivariateGrouper(num_test_dates=int(len(dataset.test)/len(dataset.train)), \n",
    "                                   max_target_dim=int(dataset.metadata.feat_static_cat[0].cardinality))\n",
    "dataset_train = train_grouper(dataset.train)\n",
    "dataset_test = test_grouper(dataset.test)"
   ]
  },
  {
   "cell_type": "code",
   "execution_count": null,
   "id": "9ded5c21-ea78-4f99-98e3-1573f5abfbf2",
   "metadata": {
    "tags": []
   },
   "outputs": [
    {
     "name": "stderr",
     "output_type": "stream",
     "text": [
      "\u001b[32m[I 2023-04-28 03:24:04,607]\u001b[0m A new study created in memory with name: no-name-354d2e39-12b9-421a-8a7b-024560528a23\u001b[0m\n",
      "/ccs/proj/csc499/hstellar/py38/lib/python3.8/site-packages/optuna/distributions.py:716: UserWarning: The distribution is specified by [2, 16] and step=4, but the range is not divisible by `step`. It will be replaced by [2, 14].\n",
      "  warnings.warn(\n",
      "/ccs/proj/csc499/hstellar/py38/lib/python3.8/site-packages/optuna/trial/_trial.py:681: RuntimeWarning: Inconsistent parameter values for distribution with name \"dim\"! This might be a configuration mistake. Optuna allows to call the same distribution with the same name more than once in a trial. When the parameter values are inconsistent optuna only uses the values of the first call and ignores all following. Using these values: {'log': False, 'step': 16, 'low': 16, 'high': 64}\n",
      "  warnings.warn(\n",
      "GPU available: True (cuda), used: True\n",
      "TPU available: False, using: 0 TPU cores\n",
      "IPU available: False, using: 0 IPUs\n",
      "HPU available: False, using: 0 HPUs\n",
      "/ccs/proj/csc499/hstellar/py38/lib/python3.8/site-packages/pytorch_lightning/trainer/configuration_validator.py:108: PossibleUserWarning: You defined a `validation_step` but have no `val_dataloader`. Skipping val loop.\n",
      "  rank_zero_warn(\n",
      "LOCAL_RANK: 0 - CUDA_VISIBLE_DEVICES: [0]\n",
      "\n",
      "  | Name  | Type             | Params\n",
      "-------------------------------------------\n",
      "0 | model | ConvTSMixerModel | 738 K \n",
      "-------------------------------------------\n",
      "738 K     Trainable params\n",
      "0         Non-trainable params\n",
      "738 K     Total params\n",
      "2.953     Total estimated model params size (MB)\n",
      "2023-04-28 03:24:07.557367: I tensorflow/core/util/port.cc:110] oneDNN custom operations are on. You may see slightly different numerical results due to floating-point round-off errors from different computation orders. To turn them off, set the environment variable `TF_ENABLE_ONEDNN_OPTS=0`.\n",
      "2023-04-28 03:24:07.599246: I tensorflow/core/platform/cpu_feature_guard.cc:182] This TensorFlow binary is optimized to use available CPU instructions in performance-critical operations.\n",
      "To enable the following instructions: AVX2 AVX512F AVX512_VNNI FMA, in other operations, rebuild TensorFlow with the appropriate compiler flags.\n"
     ]
    },
    {
     "data": {
      "application/vnd.jupyter.widget-view+json": {
       "model_id": "6854ee22a3bc4a898a0368750cf824ec",
       "version_major": 2,
       "version_minor": 0
      },
      "text/plain": [
       "Training: 0it [00:00, ?it/s]"
      ]
     },
     "metadata": {},
     "output_type": "display_data"
    },
    {
     "name": "stderr",
     "output_type": "stream",
     "text": [
      "/ccs/proj/csc499/hstellar/py38/lib/python3.8/site-packages/torch/nn/modules/conv.py:459: UserWarning: Using padding='same' with even kernel lengths and odd dilation may require a zero-padded copy of the input be created (Triggered internally at ../aten/src/ATen/native/Convolution.cpp:1003.)\n",
      "  return F.conv2d(input, weight, bias, self.stride,\n",
      "Epoch 0, global step 100: 'train_loss' reached 4.87490 (best 4.87490), saving model to '/gpfs/alpine/csc499/scratch/hstellar/ConvTs/ConvTS-Mixer-main/lightning_logs/version_16/checkpoints/epoch=0-step=100.ckpt' as top 1\n",
      "Epoch 1, global step 200: 'train_loss' reached 4.41945 (best 4.41945), saving model to '/gpfs/alpine/csc499/scratch/hstellar/ConvTs/ConvTS-Mixer-main/lightning_logs/version_16/checkpoints/epoch=1-step=200.ckpt' as top 1\n",
      "Epoch 2, global step 300: 'train_loss' reached 4.28979 (best 4.28979), saving model to '/gpfs/alpine/csc499/scratch/hstellar/ConvTs/ConvTS-Mixer-main/lightning_logs/version_16/checkpoints/epoch=2-step=300.ckpt' as top 1\n"
     ]
    }
   ],
   "source": [
    "seed = 42\n",
    "random.seed(seed)\n",
    "torch.manual_seed(seed)\n",
    "start_time = time.time()\n",
    "study = optuna.create_study(direction=\"minimize\")\n",
    "study.optimize(ConvTSMixerObjective(dataset, train_grouper, test_grouper), n_trials=10)\n",
    "\n",
    "print(\"Number of finished trials: {}\".format(len(study.trials)))\n",
    "\n",
    "print(\"Best trial:\")\n",
    "trial = study.best_trial\n",
    "\n",
    "print(\"  Value: {}\".format(trial.value))\n",
    "print(\"  Params: \")\n",
    "for key, value in trial.params.items():\n",
    "    print(\"    {}: {}\".format(key, value))\n",
    "print(time.time() - start_time)"
   ]
  },
  {
   "cell_type": "code",
   "execution_count": null,
   "id": "9819ac62-f056-4dcb-814f-075f8ce15bac",
   "metadata": {},
   "outputs": [],
   "source": []
  }
 ],
 "metadata": {
  "kernelspec": {
   "display_name": "py38",
   "language": "python",
   "name": "py38"
  },
  "language_info": {
   "codemirror_mode": {
    "name": "ipython",
    "version": 3
   },
   "file_extension": ".py",
   "mimetype": "text/x-python",
   "name": "python",
   "nbconvert_exporter": "python",
   "pygments_lexer": "ipython3",
   "version": "3.8.10"
  }
 },
 "nbformat": 4,
 "nbformat_minor": 5
}
