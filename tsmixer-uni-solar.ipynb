{
 "cells": [
  {
   "cell_type": "code",
   "execution_count": 1,
   "id": "bba619e8",
   "metadata": {},
   "outputs": [],
   "source": [
    "from itertools import islice\n",
    "%matplotlib inline\n",
    "from matplotlib import pyplot as plt\n",
    "import matplotlib.dates as mdates"
   ]
  },
  {
   "cell_type": "code",
   "execution_count": 2,
   "id": "f19b0e22",
   "metadata": {},
   "outputs": [],
   "source": [
    "from gluonts.dataset.repository.datasets import get_dataset\n",
    "from gluonts.dataset.common import ListDataset\n",
    "from gluonts.evaluation import make_evaluation_predictions, Evaluator\n",
    "from gluonts.torch.distributions import NegativeBinomialOutput\n",
    "from gluonts.torch.modules.loss import NegativeLogLikelihood\n",
    "\n",
    "from TSMixer import TSMixerEstimator"
   ]
  },
  {
   "cell_type": "code",
   "execution_count": 3,
   "id": "c5f6bba5",
   "metadata": {},
   "outputs": [],
   "source": [
    "dataset = get_dataset(\"solar-energy\", regenerate=False)"
   ]
  },
  {
   "cell_type": "code",
   "execution_count": 4,
   "id": "98a007c9",
   "metadata": {},
   "outputs": [],
   "source": [
    "estimator = TSMixerEstimator(\n",
    "    prediction_length=dataset.metadata.prediction_length,\n",
    "    context_length=dataset.metadata.prediction_length,\n",
    "    freq=dataset.metadata.freq,\n",
    "    scaling=\"std\",\n",
    "\n",
    "    # hidden_size=64,\n",
    "    n_blocks=3,\n",
    "    \n",
    "    batch_size=128,\n",
    "    num_batches_per_epoch=100,\n",
    "    trainer_kwargs=dict(accelerator=\"gpu\",\n",
    "                        max_epochs=100)\n",
    ")"
   ]
  },
  {
   "cell_type": "code",
   "execution_count": 5,
   "id": "c30625db",
   "metadata": {},
   "outputs": [
    {
     "name": "stderr",
     "output_type": "stream",
     "text": [
      "GPU available: True (cuda), used: True\n",
      "TPU available: False, using: 0 TPU cores\n",
      "IPU available: False, using: 0 IPUs\n",
      "HPU available: False, using: 0 HPUs\n",
      "C:\\Users\\maerzale\\.virtualenvs\\ConvTS_Mixer-3Rl3B8jo\\lib\\site-packages\\pytorch_lightning\\trainer\\connectors\\logger_connector\\logger_connector.py:67: UserWarning: Starting from v1.9.0, `tensorboardX` has been removed as a dependency of the `pytorch_lightning` package, due to potential conflicts with other packages in the ML ecosystem. For this reason, `logger=True` will use `CSVLogger` as the default logger, unless the `tensorboard` or `tensorboardX` packages are found. Please `pip install lightning[extra]` or one of them to enable TensorBoard support by default\n",
      "  warning_cache.warn(\n",
      "LOCAL_RANK: 0 - CUDA_VISIBLE_DEVICES: [0]\n",
      "\n",
      "  | Name  | Type         | Params\n",
      "---------------------------------------\n",
      "0 | model | TSMixerModel | 2.9 K \n",
      "---------------------------------------\n",
      "2.9 K     Trainable params\n",
      "0         Non-trainable params\n",
      "2.9 K     Total params\n",
      "0.011     Total estimated model params size (MB)\n"
     ]
    },
    {
     "data": {
      "text/plain": "Sanity Checking: 0it [00:00, ?it/s]",
      "application/vnd.jupyter.widget-view+json": {
       "version_major": 2,
       "version_minor": 0,
       "model_id": "60b00f291ebb4803b8b881aea72138ee"
      }
     },
     "metadata": {},
     "output_type": "display_data"
    },
    {
     "data": {
      "text/plain": "Training: 0it [00:00, ?it/s]",
      "application/vnd.jupyter.widget-view+json": {
       "version_major": 2,
       "version_minor": 0,
       "model_id": "c3cb0dc536784b38a405618132241f33"
      }
     },
     "metadata": {},
     "output_type": "display_data"
    },
    {
     "data": {
      "text/plain": "Validation: 0it [00:00, ?it/s]",
      "application/vnd.jupyter.widget-view+json": {
       "version_major": 2,
       "version_minor": 0,
       "model_id": "11b1b36f05bf48228feec8bce35c1586"
      }
     },
     "metadata": {},
     "output_type": "display_data"
    },
    {
     "name": "stderr",
     "output_type": "stream",
     "text": [
      "Epoch 0, global step 100: 'val_loss' reached 3.83150 (best 3.83150), saving model to 'C:\\\\Users\\\\maerzale\\\\OneDrive - adidas\\\\ConvTS Mixer\\\\lightning_logs\\\\version_42\\\\checkpoints\\\\epoch=0-step=100.ckpt' as top 1\n"
     ]
    },
    {
     "data": {
      "text/plain": "Validation: 0it [00:00, ?it/s]",
      "application/vnd.jupyter.widget-view+json": {
       "version_major": 2,
       "version_minor": 0,
       "model_id": "a84c94c5515f4e3cae7ba3f4cd6fe040"
      }
     },
     "metadata": {},
     "output_type": "display_data"
    },
    {
     "name": "stderr",
     "output_type": "stream",
     "text": [
      "Epoch 1, global step 200: 'val_loss' reached 3.72445 (best 3.72445), saving model to 'C:\\\\Users\\\\maerzale\\\\OneDrive - adidas\\\\ConvTS Mixer\\\\lightning_logs\\\\version_42\\\\checkpoints\\\\epoch=1-step=200.ckpt' as top 1\n"
     ]
    },
    {
     "data": {
      "text/plain": "Validation: 0it [00:00, ?it/s]",
      "application/vnd.jupyter.widget-view+json": {
       "version_major": 2,
       "version_minor": 0,
       "model_id": "7a417eabe1cd4c098be9472cb1968b0a"
      }
     },
     "metadata": {},
     "output_type": "display_data"
    },
    {
     "name": "stderr",
     "output_type": "stream",
     "text": [
      "Epoch 2, global step 300: 'val_loss' reached 3.64735 (best 3.64735), saving model to 'C:\\\\Users\\\\maerzale\\\\OneDrive - adidas\\\\ConvTS Mixer\\\\lightning_logs\\\\version_42\\\\checkpoints\\\\epoch=2-step=300.ckpt' as top 1\n"
     ]
    },
    {
     "data": {
      "text/plain": "Validation: 0it [00:00, ?it/s]",
      "application/vnd.jupyter.widget-view+json": {
       "version_major": 2,
       "version_minor": 0,
       "model_id": "59a0052fe6114def8829b3d0cb43fb59"
      }
     },
     "metadata": {},
     "output_type": "display_data"
    },
    {
     "name": "stderr",
     "output_type": "stream",
     "text": [
      "Epoch 3, global step 400: 'val_loss' reached 3.60214 (best 3.60214), saving model to 'C:\\\\Users\\\\maerzale\\\\OneDrive - adidas\\\\ConvTS Mixer\\\\lightning_logs\\\\version_42\\\\checkpoints\\\\epoch=3-step=400.ckpt' as top 1\n"
     ]
    },
    {
     "data": {
      "text/plain": "Validation: 0it [00:00, ?it/s]",
      "application/vnd.jupyter.widget-view+json": {
       "version_major": 2,
       "version_minor": 0,
       "model_id": "4b9511da382f4427a724be202b25c4d7"
      }
     },
     "metadata": {},
     "output_type": "display_data"
    },
    {
     "name": "stderr",
     "output_type": "stream",
     "text": [
      "Epoch 4, global step 500: 'val_loss' reached 3.51567 (best 3.51567), saving model to 'C:\\\\Users\\\\maerzale\\\\OneDrive - adidas\\\\ConvTS Mixer\\\\lightning_logs\\\\version_42\\\\checkpoints\\\\epoch=4-step=500.ckpt' as top 1\n"
     ]
    },
    {
     "data": {
      "text/plain": "Validation: 0it [00:00, ?it/s]",
      "application/vnd.jupyter.widget-view+json": {
       "version_major": 2,
       "version_minor": 0,
       "model_id": "5d6e72c99f354c20a39d272d11c9219b"
      }
     },
     "metadata": {},
     "output_type": "display_data"
    },
    {
     "name": "stderr",
     "output_type": "stream",
     "text": [
      "Epoch 5, global step 600: 'val_loss' reached 3.46976 (best 3.46976), saving model to 'C:\\\\Users\\\\maerzale\\\\OneDrive - adidas\\\\ConvTS Mixer\\\\lightning_logs\\\\version_42\\\\checkpoints\\\\epoch=5-step=600.ckpt' as top 1\n"
     ]
    },
    {
     "data": {
      "text/plain": "Validation: 0it [00:00, ?it/s]",
      "application/vnd.jupyter.widget-view+json": {
       "version_major": 2,
       "version_minor": 0,
       "model_id": "15d59d12a3e746a98d93cbddb40a345f"
      }
     },
     "metadata": {},
     "output_type": "display_data"
    },
    {
     "name": "stderr",
     "output_type": "stream",
     "text": [
      "Epoch 6, global step 700: 'val_loss' reached 3.41674 (best 3.41674), saving model to 'C:\\\\Users\\\\maerzale\\\\OneDrive - adidas\\\\ConvTS Mixer\\\\lightning_logs\\\\version_42\\\\checkpoints\\\\epoch=6-step=700.ckpt' as top 1\n"
     ]
    },
    {
     "data": {
      "text/plain": "Validation: 0it [00:00, ?it/s]",
      "application/vnd.jupyter.widget-view+json": {
       "version_major": 2,
       "version_minor": 0,
       "model_id": "f2171ee5cd824edf9dc6e18dd16bef0f"
      }
     },
     "metadata": {},
     "output_type": "display_data"
    },
    {
     "name": "stderr",
     "output_type": "stream",
     "text": [
      "Epoch 7, global step 800: 'val_loss' reached 3.36715 (best 3.36715), saving model to 'C:\\\\Users\\\\maerzale\\\\OneDrive - adidas\\\\ConvTS Mixer\\\\lightning_logs\\\\version_42\\\\checkpoints\\\\epoch=7-step=800.ckpt' as top 1\n"
     ]
    },
    {
     "data": {
      "text/plain": "Validation: 0it [00:00, ?it/s]",
      "application/vnd.jupyter.widget-view+json": {
       "version_major": 2,
       "version_minor": 0,
       "model_id": "2a7b1951061c40ff90f96b56e4d79bd7"
      }
     },
     "metadata": {},
     "output_type": "display_data"
    },
    {
     "name": "stderr",
     "output_type": "stream",
     "text": [
      "Epoch 8, global step 900: 'val_loss' was not in top 1\n"
     ]
    },
    {
     "data": {
      "text/plain": "Validation: 0it [00:00, ?it/s]",
      "application/vnd.jupyter.widget-view+json": {
       "version_major": 2,
       "version_minor": 0,
       "model_id": "2d93ffd05b1b4c44a370dc18a0b8e0c9"
      }
     },
     "metadata": {},
     "output_type": "display_data"
    },
    {
     "name": "stderr",
     "output_type": "stream",
     "text": [
      "Epoch 9, global step 1000: 'val_loss' reached 3.32100 (best 3.32100), saving model to 'C:\\\\Users\\\\maerzale\\\\OneDrive - adidas\\\\ConvTS Mixer\\\\lightning_logs\\\\version_42\\\\checkpoints\\\\epoch=9-step=1000.ckpt' as top 1\n"
     ]
    },
    {
     "data": {
      "text/plain": "Validation: 0it [00:00, ?it/s]",
      "application/vnd.jupyter.widget-view+json": {
       "version_major": 2,
       "version_minor": 0,
       "model_id": "a03aa12caf6045748047c29ba38b3323"
      }
     },
     "metadata": {},
     "output_type": "display_data"
    },
    {
     "name": "stderr",
     "output_type": "stream",
     "text": [
      "Epoch 10, global step 1100: 'val_loss' reached 3.30772 (best 3.30772), saving model to 'C:\\\\Users\\\\maerzale\\\\OneDrive - adidas\\\\ConvTS Mixer\\\\lightning_logs\\\\version_42\\\\checkpoints\\\\epoch=10-step=1100.ckpt' as top 1\n"
     ]
    },
    {
     "data": {
      "text/plain": "Validation: 0it [00:00, ?it/s]",
      "application/vnd.jupyter.widget-view+json": {
       "version_major": 2,
       "version_minor": 0,
       "model_id": "143851bd75154f0880ad6a12fcc4e3aa"
      }
     },
     "metadata": {},
     "output_type": "display_data"
    },
    {
     "name": "stderr",
     "output_type": "stream",
     "text": [
      "Epoch 11, global step 1200: 'val_loss' reached 3.27077 (best 3.27077), saving model to 'C:\\\\Users\\\\maerzale\\\\OneDrive - adidas\\\\ConvTS Mixer\\\\lightning_logs\\\\version_42\\\\checkpoints\\\\epoch=11-step=1200.ckpt' as top 1\n"
     ]
    },
    {
     "data": {
      "text/plain": "Validation: 0it [00:00, ?it/s]",
      "application/vnd.jupyter.widget-view+json": {
       "version_major": 2,
       "version_minor": 0,
       "model_id": "f4a3e4fc150f44e89f3b7c7a0e246b89"
      }
     },
     "metadata": {},
     "output_type": "display_data"
    },
    {
     "name": "stderr",
     "output_type": "stream",
     "text": [
      "Epoch 12, global step 1300: 'val_loss' reached 3.24863 (best 3.24863), saving model to 'C:\\\\Users\\\\maerzale\\\\OneDrive - adidas\\\\ConvTS Mixer\\\\lightning_logs\\\\version_42\\\\checkpoints\\\\epoch=12-step=1300.ckpt' as top 1\n"
     ]
    },
    {
     "data": {
      "text/plain": "Validation: 0it [00:00, ?it/s]",
      "application/vnd.jupyter.widget-view+json": {
       "version_major": 2,
       "version_minor": 0,
       "model_id": "235f9d7c7d1342bab145d22154ec6256"
      }
     },
     "metadata": {},
     "output_type": "display_data"
    },
    {
     "name": "stderr",
     "output_type": "stream",
     "text": [
      "Epoch 13, global step 1400: 'val_loss' was not in top 1\n"
     ]
    },
    {
     "data": {
      "text/plain": "Validation: 0it [00:00, ?it/s]",
      "application/vnd.jupyter.widget-view+json": {
       "version_major": 2,
       "version_minor": 0,
       "model_id": "b2bbba9445f4408cb9ddf211395af595"
      }
     },
     "metadata": {},
     "output_type": "display_data"
    },
    {
     "name": "stderr",
     "output_type": "stream",
     "text": [
      "Epoch 14, global step 1500: 'val_loss' reached 3.21458 (best 3.21458), saving model to 'C:\\\\Users\\\\maerzale\\\\OneDrive - adidas\\\\ConvTS Mixer\\\\lightning_logs\\\\version_42\\\\checkpoints\\\\epoch=14-step=1500.ckpt' as top 1\n"
     ]
    },
    {
     "data": {
      "text/plain": "Validation: 0it [00:00, ?it/s]",
      "application/vnd.jupyter.widget-view+json": {
       "version_major": 2,
       "version_minor": 0,
       "model_id": "fc1d4d9e79424b2c81b1b731e5e539fe"
      }
     },
     "metadata": {},
     "output_type": "display_data"
    },
    {
     "name": "stderr",
     "output_type": "stream",
     "text": [
      "Epoch 15, global step 1600: 'val_loss' reached 3.18511 (best 3.18511), saving model to 'C:\\\\Users\\\\maerzale\\\\OneDrive - adidas\\\\ConvTS Mixer\\\\lightning_logs\\\\version_42\\\\checkpoints\\\\epoch=15-step=1600.ckpt' as top 1\n"
     ]
    },
    {
     "data": {
      "text/plain": "Validation: 0it [00:00, ?it/s]",
      "application/vnd.jupyter.widget-view+json": {
       "version_major": 2,
       "version_minor": 0,
       "model_id": "8c951a5c7f80424a9b212756331e5d92"
      }
     },
     "metadata": {},
     "output_type": "display_data"
    },
    {
     "name": "stderr",
     "output_type": "stream",
     "text": [
      "Epoch 16, global step 1700: 'val_loss' was not in top 1\n"
     ]
    },
    {
     "data": {
      "text/plain": "Validation: 0it [00:00, ?it/s]",
      "application/vnd.jupyter.widget-view+json": {
       "version_major": 2,
       "version_minor": 0,
       "model_id": "bbc81679bbce49688415a983d6e24004"
      }
     },
     "metadata": {},
     "output_type": "display_data"
    },
    {
     "name": "stderr",
     "output_type": "stream",
     "text": [
      "Epoch 17, global step 1800: 'val_loss' reached 3.16208 (best 3.16208), saving model to 'C:\\\\Users\\\\maerzale\\\\OneDrive - adidas\\\\ConvTS Mixer\\\\lightning_logs\\\\version_42\\\\checkpoints\\\\epoch=17-step=1800.ckpt' as top 1\n"
     ]
    },
    {
     "data": {
      "text/plain": "Validation: 0it [00:00, ?it/s]",
      "application/vnd.jupyter.widget-view+json": {
       "version_major": 2,
       "version_minor": 0,
       "model_id": "e3b4d9afa7b84d6c9322007eb39a4361"
      }
     },
     "metadata": {},
     "output_type": "display_data"
    },
    {
     "name": "stderr",
     "output_type": "stream",
     "text": [
      "Epoch 18, global step 1900: 'val_loss' was not in top 1\n"
     ]
    },
    {
     "data": {
      "text/plain": "Validation: 0it [00:00, ?it/s]",
      "application/vnd.jupyter.widget-view+json": {
       "version_major": 2,
       "version_minor": 0,
       "model_id": "c172e8f6b58b4053a4d4a73d3c764001"
      }
     },
     "metadata": {},
     "output_type": "display_data"
    },
    {
     "name": "stderr",
     "output_type": "stream",
     "text": [
      "Epoch 19, global step 2000: 'val_loss' was not in top 1\n"
     ]
    },
    {
     "data": {
      "text/plain": "Validation: 0it [00:00, ?it/s]",
      "application/vnd.jupyter.widget-view+json": {
       "version_major": 2,
       "version_minor": 0,
       "model_id": "c96db2c40dfe4b36b808ee084dd35b3d"
      }
     },
     "metadata": {},
     "output_type": "display_data"
    },
    {
     "name": "stderr",
     "output_type": "stream",
     "text": [
      "Epoch 20, global step 2100: 'val_loss' was not in top 1\n"
     ]
    },
    {
     "data": {
      "text/plain": "Validation: 0it [00:00, ?it/s]",
      "application/vnd.jupyter.widget-view+json": {
       "version_major": 2,
       "version_minor": 0,
       "model_id": "c38e7285d1964730a6d1d3da48dd3438"
      }
     },
     "metadata": {},
     "output_type": "display_data"
    },
    {
     "name": "stderr",
     "output_type": "stream",
     "text": [
      "Epoch 21, global step 2200: 'val_loss' reached 3.11671 (best 3.11671), saving model to 'C:\\\\Users\\\\maerzale\\\\OneDrive - adidas\\\\ConvTS Mixer\\\\lightning_logs\\\\version_42\\\\checkpoints\\\\epoch=21-step=2200.ckpt' as top 1\n"
     ]
    },
    {
     "data": {
      "text/plain": "Validation: 0it [00:00, ?it/s]",
      "application/vnd.jupyter.widget-view+json": {
       "version_major": 2,
       "version_minor": 0,
       "model_id": "c8c79c4d8f5644928790b8c21d3440a0"
      }
     },
     "metadata": {},
     "output_type": "display_data"
    },
    {
     "name": "stderr",
     "output_type": "stream",
     "text": [
      "Epoch 22, global step 2300: 'val_loss' was not in top 1\n"
     ]
    },
    {
     "data": {
      "text/plain": "Validation: 0it [00:00, ?it/s]",
      "application/vnd.jupyter.widget-view+json": {
       "version_major": 2,
       "version_minor": 0,
       "model_id": "71eebd0c66d5454b9a0936240a5919ae"
      }
     },
     "metadata": {},
     "output_type": "display_data"
    },
    {
     "name": "stderr",
     "output_type": "stream",
     "text": [
      "Epoch 23, global step 2400: 'val_loss' was not in top 1\n"
     ]
    },
    {
     "data": {
      "text/plain": "Validation: 0it [00:00, ?it/s]",
      "application/vnd.jupyter.widget-view+json": {
       "version_major": 2,
       "version_minor": 0,
       "model_id": "0b8749a9d87a4a008ce13c983ee5b114"
      }
     },
     "metadata": {},
     "output_type": "display_data"
    },
    {
     "name": "stderr",
     "output_type": "stream",
     "text": [
      "Epoch 24, global step 2500: 'val_loss' reached 3.10485 (best 3.10485), saving model to 'C:\\\\Users\\\\maerzale\\\\OneDrive - adidas\\\\ConvTS Mixer\\\\lightning_logs\\\\version_42\\\\checkpoints\\\\epoch=24-step=2500.ckpt' as top 1\n"
     ]
    },
    {
     "data": {
      "text/plain": "Validation: 0it [00:00, ?it/s]",
      "application/vnd.jupyter.widget-view+json": {
       "version_major": 2,
       "version_minor": 0,
       "model_id": "89865260b8f443cb93ccc52bfad858c0"
      }
     },
     "metadata": {},
     "output_type": "display_data"
    },
    {
     "name": "stderr",
     "output_type": "stream",
     "text": [
      "Epoch 25, global step 2600: 'val_loss' reached 3.08704 (best 3.08704), saving model to 'C:\\\\Users\\\\maerzale\\\\OneDrive - adidas\\\\ConvTS Mixer\\\\lightning_logs\\\\version_42\\\\checkpoints\\\\epoch=25-step=2600.ckpt' as top 1\n"
     ]
    },
    {
     "data": {
      "text/plain": "Validation: 0it [00:00, ?it/s]",
      "application/vnd.jupyter.widget-view+json": {
       "version_major": 2,
       "version_minor": 0,
       "model_id": "1085df2c3fb948bf8062cb0456c1ab01"
      }
     },
     "metadata": {},
     "output_type": "display_data"
    },
    {
     "name": "stderr",
     "output_type": "stream",
     "text": [
      "Epoch 26, global step 2700: 'val_loss' was not in top 1\n"
     ]
    },
    {
     "data": {
      "text/plain": "Validation: 0it [00:00, ?it/s]",
      "application/vnd.jupyter.widget-view+json": {
       "version_major": 2,
       "version_minor": 0,
       "model_id": "e390b880e2d048d4934e40501307bc11"
      }
     },
     "metadata": {},
     "output_type": "display_data"
    },
    {
     "name": "stderr",
     "output_type": "stream",
     "text": [
      "Epoch 27, global step 2800: 'val_loss' reached 3.08134 (best 3.08134), saving model to 'C:\\\\Users\\\\maerzale\\\\OneDrive - adidas\\\\ConvTS Mixer\\\\lightning_logs\\\\version_42\\\\checkpoints\\\\epoch=27-step=2800.ckpt' as top 1\n"
     ]
    },
    {
     "data": {
      "text/plain": "Validation: 0it [00:00, ?it/s]",
      "application/vnd.jupyter.widget-view+json": {
       "version_major": 2,
       "version_minor": 0,
       "model_id": "f179c4d26c03433f9921ccb05b12c75e"
      }
     },
     "metadata": {},
     "output_type": "display_data"
    },
    {
     "name": "stderr",
     "output_type": "stream",
     "text": [
      "Epoch 28, global step 2900: 'val_loss' reached 3.05316 (best 3.05316), saving model to 'C:\\\\Users\\\\maerzale\\\\OneDrive - adidas\\\\ConvTS Mixer\\\\lightning_logs\\\\version_42\\\\checkpoints\\\\epoch=28-step=2900.ckpt' as top 1\n"
     ]
    },
    {
     "data": {
      "text/plain": "Validation: 0it [00:00, ?it/s]",
      "application/vnd.jupyter.widget-view+json": {
       "version_major": 2,
       "version_minor": 0,
       "model_id": "e30cdc3fa1dc4e96a3518c61732ddfa6"
      }
     },
     "metadata": {},
     "output_type": "display_data"
    },
    {
     "name": "stderr",
     "output_type": "stream",
     "text": [
      "Epoch 29, global step 3000: 'val_loss' was not in top 1\n"
     ]
    },
    {
     "data": {
      "text/plain": "Validation: 0it [00:00, ?it/s]",
      "application/vnd.jupyter.widget-view+json": {
       "version_major": 2,
       "version_minor": 0,
       "model_id": "b365aee39ca74d968f5e2848acc59534"
      }
     },
     "metadata": {},
     "output_type": "display_data"
    },
    {
     "name": "stderr",
     "output_type": "stream",
     "text": [
      "Epoch 30, global step 3100: 'val_loss' was not in top 1\n"
     ]
    },
    {
     "data": {
      "text/plain": "Validation: 0it [00:00, ?it/s]",
      "application/vnd.jupyter.widget-view+json": {
       "version_major": 2,
       "version_minor": 0,
       "model_id": "20b5da9343334db8bdbc3c68ce21d144"
      }
     },
     "metadata": {},
     "output_type": "display_data"
    },
    {
     "name": "stderr",
     "output_type": "stream",
     "text": [
      "Epoch 31, global step 3200: 'val_loss' was not in top 1\n"
     ]
    },
    {
     "data": {
      "text/plain": "Validation: 0it [00:00, ?it/s]",
      "application/vnd.jupyter.widget-view+json": {
       "version_major": 2,
       "version_minor": 0,
       "model_id": "c3abd557e2de4d4c9766a90513109711"
      }
     },
     "metadata": {},
     "output_type": "display_data"
    },
    {
     "name": "stderr",
     "output_type": "stream",
     "text": [
      "Epoch 32, global step 3300: 'val_loss' was not in top 1\n"
     ]
    },
    {
     "data": {
      "text/plain": "Validation: 0it [00:00, ?it/s]",
      "application/vnd.jupyter.widget-view+json": {
       "version_major": 2,
       "version_minor": 0,
       "model_id": "6f7116c9f99b49579a8bb36ae196545a"
      }
     },
     "metadata": {},
     "output_type": "display_data"
    },
    {
     "name": "stderr",
     "output_type": "stream",
     "text": [
      "Epoch 33, global step 3400: 'val_loss' reached 3.04000 (best 3.04000), saving model to 'C:\\\\Users\\\\maerzale\\\\OneDrive - adidas\\\\ConvTS Mixer\\\\lightning_logs\\\\version_42\\\\checkpoints\\\\epoch=33-step=3400.ckpt' as top 1\n"
     ]
    },
    {
     "data": {
      "text/plain": "Validation: 0it [00:00, ?it/s]",
      "application/vnd.jupyter.widget-view+json": {
       "version_major": 2,
       "version_minor": 0,
       "model_id": "2d3bb643e08c4e50ac4bf247b76400bc"
      }
     },
     "metadata": {},
     "output_type": "display_data"
    },
    {
     "name": "stderr",
     "output_type": "stream",
     "text": [
      "Epoch 34, global step 3500: 'val_loss' was not in top 1\n"
     ]
    },
    {
     "data": {
      "text/plain": "Validation: 0it [00:00, ?it/s]",
      "application/vnd.jupyter.widget-view+json": {
       "version_major": 2,
       "version_minor": 0,
       "model_id": "89bb71ee899d45f28dcb1440931f7e65"
      }
     },
     "metadata": {},
     "output_type": "display_data"
    },
    {
     "name": "stderr",
     "output_type": "stream",
     "text": [
      "Epoch 35, global step 3600: 'val_loss' was not in top 1\n"
     ]
    },
    {
     "data": {
      "text/plain": "Validation: 0it [00:00, ?it/s]",
      "application/vnd.jupyter.widget-view+json": {
       "version_major": 2,
       "version_minor": 0,
       "model_id": "09b73c671d7247d596589dbffb4923a5"
      }
     },
     "metadata": {},
     "output_type": "display_data"
    },
    {
     "name": "stderr",
     "output_type": "stream",
     "text": [
      "Epoch 36, global step 3700: 'val_loss' reached 3.02124 (best 3.02124), saving model to 'C:\\\\Users\\\\maerzale\\\\OneDrive - adidas\\\\ConvTS Mixer\\\\lightning_logs\\\\version_42\\\\checkpoints\\\\epoch=36-step=3700.ckpt' as top 1\n"
     ]
    },
    {
     "data": {
      "text/plain": "Validation: 0it [00:00, ?it/s]",
      "application/vnd.jupyter.widget-view+json": {
       "version_major": 2,
       "version_minor": 0,
       "model_id": "0f9897a081aa4e7cb8415c88576d67ec"
      }
     },
     "metadata": {},
     "output_type": "display_data"
    },
    {
     "name": "stderr",
     "output_type": "stream",
     "text": [
      "Epoch 37, global step 3800: 'val_loss' was not in top 1\n"
     ]
    },
    {
     "data": {
      "text/plain": "Validation: 0it [00:00, ?it/s]",
      "application/vnd.jupyter.widget-view+json": {
       "version_major": 2,
       "version_minor": 0,
       "model_id": "edd90d1478cf44b2aab947076794725e"
      }
     },
     "metadata": {},
     "output_type": "display_data"
    },
    {
     "name": "stderr",
     "output_type": "stream",
     "text": [
      "Epoch 38, global step 3900: 'val_loss' was not in top 1\n"
     ]
    },
    {
     "data": {
      "text/plain": "Validation: 0it [00:00, ?it/s]",
      "application/vnd.jupyter.widget-view+json": {
       "version_major": 2,
       "version_minor": 0,
       "model_id": "1bf3282814a2438da34947d5dff63c18"
      }
     },
     "metadata": {},
     "output_type": "display_data"
    },
    {
     "name": "stderr",
     "output_type": "stream",
     "text": [
      "Epoch 39, global step 4000: 'val_loss' reached 3.00949 (best 3.00949), saving model to 'C:\\\\Users\\\\maerzale\\\\OneDrive - adidas\\\\ConvTS Mixer\\\\lightning_logs\\\\version_42\\\\checkpoints\\\\epoch=39-step=4000.ckpt' as top 1\n"
     ]
    },
    {
     "data": {
      "text/plain": "Validation: 0it [00:00, ?it/s]",
      "application/vnd.jupyter.widget-view+json": {
       "version_major": 2,
       "version_minor": 0,
       "model_id": "7dda67956bd04914acf1cb427bd96cf2"
      }
     },
     "metadata": {},
     "output_type": "display_data"
    },
    {
     "name": "stderr",
     "output_type": "stream",
     "text": [
      "Epoch 40, global step 4100: 'val_loss' reached 2.99568 (best 2.99568), saving model to 'C:\\\\Users\\\\maerzale\\\\OneDrive - adidas\\\\ConvTS Mixer\\\\lightning_logs\\\\version_42\\\\checkpoints\\\\epoch=40-step=4100.ckpt' as top 1\n"
     ]
    },
    {
     "data": {
      "text/plain": "Validation: 0it [00:00, ?it/s]",
      "application/vnd.jupyter.widget-view+json": {
       "version_major": 2,
       "version_minor": 0,
       "model_id": "d2ce684faca24b12a5dfe7c6168bb916"
      }
     },
     "metadata": {},
     "output_type": "display_data"
    },
    {
     "name": "stderr",
     "output_type": "stream",
     "text": [
      "Epoch 41, global step 4200: 'val_loss' was not in top 1\n"
     ]
    },
    {
     "data": {
      "text/plain": "Validation: 0it [00:00, ?it/s]",
      "application/vnd.jupyter.widget-view+json": {
       "version_major": 2,
       "version_minor": 0,
       "model_id": "0d1f5d4a8066490f988a923fc8606a2a"
      }
     },
     "metadata": {},
     "output_type": "display_data"
    },
    {
     "name": "stderr",
     "output_type": "stream",
     "text": [
      "Epoch 42, global step 4300: 'val_loss' was not in top 1\n"
     ]
    },
    {
     "data": {
      "text/plain": "Validation: 0it [00:00, ?it/s]",
      "application/vnd.jupyter.widget-view+json": {
       "version_major": 2,
       "version_minor": 0,
       "model_id": "2cfcca3c78a44f3d91918544c782f95c"
      }
     },
     "metadata": {},
     "output_type": "display_data"
    },
    {
     "name": "stderr",
     "output_type": "stream",
     "text": [
      "Epoch 43, global step 4400: 'val_loss' was not in top 1\n"
     ]
    },
    {
     "data": {
      "text/plain": "Validation: 0it [00:00, ?it/s]",
      "application/vnd.jupyter.widget-view+json": {
       "version_major": 2,
       "version_minor": 0,
       "model_id": "17f776ac93de48cd816babcbe471fc40"
      }
     },
     "metadata": {},
     "output_type": "display_data"
    },
    {
     "name": "stderr",
     "output_type": "stream",
     "text": [
      "Epoch 44, global step 4500: 'val_loss' was not in top 1\n"
     ]
    },
    {
     "data": {
      "text/plain": "Validation: 0it [00:00, ?it/s]",
      "application/vnd.jupyter.widget-view+json": {
       "version_major": 2,
       "version_minor": 0,
       "model_id": "5370c7ebb02641be9359734807240092"
      }
     },
     "metadata": {},
     "output_type": "display_data"
    },
    {
     "name": "stderr",
     "output_type": "stream",
     "text": [
      "Epoch 45, global step 4600: 'val_loss' reached 2.97884 (best 2.97884), saving model to 'C:\\\\Users\\\\maerzale\\\\OneDrive - adidas\\\\ConvTS Mixer\\\\lightning_logs\\\\version_42\\\\checkpoints\\\\epoch=45-step=4600.ckpt' as top 1\n"
     ]
    },
    {
     "data": {
      "text/plain": "Validation: 0it [00:00, ?it/s]",
      "application/vnd.jupyter.widget-view+json": {
       "version_major": 2,
       "version_minor": 0,
       "model_id": "2bfdf0dcbbe548b4b16d07f0799df184"
      }
     },
     "metadata": {},
     "output_type": "display_data"
    },
    {
     "name": "stderr",
     "output_type": "stream",
     "text": [
      "Epoch 46, global step 4700: 'val_loss' was not in top 1\n"
     ]
    },
    {
     "data": {
      "text/plain": "Validation: 0it [00:00, ?it/s]",
      "application/vnd.jupyter.widget-view+json": {
       "version_major": 2,
       "version_minor": 0,
       "model_id": "7c408da3cde149d4ab4fc882d912c3fd"
      }
     },
     "metadata": {},
     "output_type": "display_data"
    },
    {
     "name": "stderr",
     "output_type": "stream",
     "text": [
      "Epoch 47, global step 4800: 'val_loss' was not in top 1\n"
     ]
    },
    {
     "data": {
      "text/plain": "Validation: 0it [00:00, ?it/s]",
      "application/vnd.jupyter.widget-view+json": {
       "version_major": 2,
       "version_minor": 0,
       "model_id": "33967b055f5c4debbb0cffc048d61f66"
      }
     },
     "metadata": {},
     "output_type": "display_data"
    },
    {
     "name": "stderr",
     "output_type": "stream",
     "text": [
      "Epoch 48, global step 4900: 'val_loss' was not in top 1\n"
     ]
    },
    {
     "data": {
      "text/plain": "Validation: 0it [00:00, ?it/s]",
      "application/vnd.jupyter.widget-view+json": {
       "version_major": 2,
       "version_minor": 0,
       "model_id": "98d58990af954ee78839e1201ff7fc96"
      }
     },
     "metadata": {},
     "output_type": "display_data"
    },
    {
     "name": "stderr",
     "output_type": "stream",
     "text": [
      "Epoch 49, global step 5000: 'val_loss' reached 2.96307 (best 2.96307), saving model to 'C:\\\\Users\\\\maerzale\\\\OneDrive - adidas\\\\ConvTS Mixer\\\\lightning_logs\\\\version_42\\\\checkpoints\\\\epoch=49-step=5000.ckpt' as top 1\n"
     ]
    },
    {
     "data": {
      "text/plain": "Validation: 0it [00:00, ?it/s]",
      "application/vnd.jupyter.widget-view+json": {
       "version_major": 2,
       "version_minor": 0,
       "model_id": "390d03a5fa024a1dae44174a2544552f"
      }
     },
     "metadata": {},
     "output_type": "display_data"
    },
    {
     "name": "stderr",
     "output_type": "stream",
     "text": [
      "Epoch 50, global step 5100: 'val_loss' was not in top 1\n"
     ]
    },
    {
     "data": {
      "text/plain": "Validation: 0it [00:00, ?it/s]",
      "application/vnd.jupyter.widget-view+json": {
       "version_major": 2,
       "version_minor": 0,
       "model_id": "6398cb364ac649cb85d4e9d09bb6998e"
      }
     },
     "metadata": {},
     "output_type": "display_data"
    },
    {
     "name": "stderr",
     "output_type": "stream",
     "text": [
      "Epoch 51, global step 5200: 'val_loss' was not in top 1\n"
     ]
    },
    {
     "data": {
      "text/plain": "Validation: 0it [00:00, ?it/s]",
      "application/vnd.jupyter.widget-view+json": {
       "version_major": 2,
       "version_minor": 0,
       "model_id": "c9ae75b651e54dc29924d9aff23f0029"
      }
     },
     "metadata": {},
     "output_type": "display_data"
    },
    {
     "name": "stderr",
     "output_type": "stream",
     "text": [
      "Epoch 52, global step 5300: 'val_loss' reached 2.94239 (best 2.94239), saving model to 'C:\\\\Users\\\\maerzale\\\\OneDrive - adidas\\\\ConvTS Mixer\\\\lightning_logs\\\\version_42\\\\checkpoints\\\\epoch=52-step=5300.ckpt' as top 1\n"
     ]
    },
    {
     "data": {
      "text/plain": "Validation: 0it [00:00, ?it/s]",
      "application/vnd.jupyter.widget-view+json": {
       "version_major": 2,
       "version_minor": 0,
       "model_id": "101b8ec3d462422c9b304e5fb7a8e620"
      }
     },
     "metadata": {},
     "output_type": "display_data"
    },
    {
     "name": "stderr",
     "output_type": "stream",
     "text": [
      "Epoch 53, global step 5400: 'val_loss' was not in top 1\n"
     ]
    },
    {
     "data": {
      "text/plain": "Validation: 0it [00:00, ?it/s]",
      "application/vnd.jupyter.widget-view+json": {
       "version_major": 2,
       "version_minor": 0,
       "model_id": "8b0ef117441e492aa9f76cc08a524aaf"
      }
     },
     "metadata": {},
     "output_type": "display_data"
    },
    {
     "name": "stderr",
     "output_type": "stream",
     "text": [
      "Epoch 54, global step 5500: 'val_loss' was not in top 1\n"
     ]
    },
    {
     "data": {
      "text/plain": "Validation: 0it [00:00, ?it/s]",
      "application/vnd.jupyter.widget-view+json": {
       "version_major": 2,
       "version_minor": 0,
       "model_id": "b841c85c015d4cccbd8aac114c53bf86"
      }
     },
     "metadata": {},
     "output_type": "display_data"
    },
    {
     "name": "stderr",
     "output_type": "stream",
     "text": [
      "Epoch 55, global step 5600: 'val_loss' was not in top 1\n"
     ]
    },
    {
     "data": {
      "text/plain": "Validation: 0it [00:00, ?it/s]",
      "application/vnd.jupyter.widget-view+json": {
       "version_major": 2,
       "version_minor": 0,
       "model_id": "8f8f063da523480db4bdfd8f96c351f9"
      }
     },
     "metadata": {},
     "output_type": "display_data"
    },
    {
     "name": "stderr",
     "output_type": "stream",
     "text": [
      "Epoch 56, global step 5700: 'val_loss' was not in top 1\n"
     ]
    },
    {
     "data": {
      "text/plain": "Validation: 0it [00:00, ?it/s]",
      "application/vnd.jupyter.widget-view+json": {
       "version_major": 2,
       "version_minor": 0,
       "model_id": "eb4fba4512d14026b56e178044b79c38"
      }
     },
     "metadata": {},
     "output_type": "display_data"
    },
    {
     "name": "stderr",
     "output_type": "stream",
     "text": [
      "Epoch 57, global step 5800: 'val_loss' was not in top 1\n"
     ]
    },
    {
     "data": {
      "text/plain": "Validation: 0it [00:00, ?it/s]",
      "application/vnd.jupyter.widget-view+json": {
       "version_major": 2,
       "version_minor": 0,
       "model_id": "7526c371e86e4404b82ab246693f9e14"
      }
     },
     "metadata": {},
     "output_type": "display_data"
    },
    {
     "name": "stderr",
     "output_type": "stream",
     "text": [
      "Epoch 58, global step 5900: 'val_loss' was not in top 1\n"
     ]
    },
    {
     "data": {
      "text/plain": "Validation: 0it [00:00, ?it/s]",
      "application/vnd.jupyter.widget-view+json": {
       "version_major": 2,
       "version_minor": 0,
       "model_id": "80c580df4a2b45a7a82ce5b4d46804c2"
      }
     },
     "metadata": {},
     "output_type": "display_data"
    },
    {
     "name": "stderr",
     "output_type": "stream",
     "text": [
      "Epoch 59, global step 6000: 'val_loss' was not in top 1\n"
     ]
    },
    {
     "data": {
      "text/plain": "Validation: 0it [00:00, ?it/s]",
      "application/vnd.jupyter.widget-view+json": {
       "version_major": 2,
       "version_minor": 0,
       "model_id": "26ca95b94f464a6082ef7b8f5a570a5b"
      }
     },
     "metadata": {},
     "output_type": "display_data"
    },
    {
     "name": "stderr",
     "output_type": "stream",
     "text": [
      "Epoch 60, global step 6100: 'val_loss' reached 2.91513 (best 2.91513), saving model to 'C:\\\\Users\\\\maerzale\\\\OneDrive - adidas\\\\ConvTS Mixer\\\\lightning_logs\\\\version_42\\\\checkpoints\\\\epoch=60-step=6100.ckpt' as top 1\n"
     ]
    },
    {
     "data": {
      "text/plain": "Validation: 0it [00:00, ?it/s]",
      "application/vnd.jupyter.widget-view+json": {
       "version_major": 2,
       "version_minor": 0,
       "model_id": "5ec641db95ba4e988a56af6a4972473a"
      }
     },
     "metadata": {},
     "output_type": "display_data"
    },
    {
     "name": "stderr",
     "output_type": "stream",
     "text": [
      "Epoch 61, global step 6200: 'val_loss' was not in top 1\n"
     ]
    },
    {
     "data": {
      "text/plain": "Validation: 0it [00:00, ?it/s]",
      "application/vnd.jupyter.widget-view+json": {
       "version_major": 2,
       "version_minor": 0,
       "model_id": "ca39389875a54012a7680bc610bb0ee7"
      }
     },
     "metadata": {},
     "output_type": "display_data"
    },
    {
     "name": "stderr",
     "output_type": "stream",
     "text": [
      "Epoch 62, global step 6300: 'val_loss' was not in top 1\n"
     ]
    },
    {
     "data": {
      "text/plain": "Validation: 0it [00:00, ?it/s]",
      "application/vnd.jupyter.widget-view+json": {
       "version_major": 2,
       "version_minor": 0,
       "model_id": "192bbc8ee02d4922a81341e1803e1e6f"
      }
     },
     "metadata": {},
     "output_type": "display_data"
    },
    {
     "name": "stderr",
     "output_type": "stream",
     "text": [
      "Epoch 63, global step 6400: 'val_loss' reached 2.90289 (best 2.90289), saving model to 'C:\\\\Users\\\\maerzale\\\\OneDrive - adidas\\\\ConvTS Mixer\\\\lightning_logs\\\\version_42\\\\checkpoints\\\\epoch=63-step=6400.ckpt' as top 1\n"
     ]
    },
    {
     "data": {
      "text/plain": "Validation: 0it [00:00, ?it/s]",
      "application/vnd.jupyter.widget-view+json": {
       "version_major": 2,
       "version_minor": 0,
       "model_id": "9c4fd9d0b45148a18e56e0b53202f4fc"
      }
     },
     "metadata": {},
     "output_type": "display_data"
    },
    {
     "name": "stderr",
     "output_type": "stream",
     "text": [
      "Epoch 64, global step 6500: 'val_loss' was not in top 1\n"
     ]
    },
    {
     "data": {
      "text/plain": "Validation: 0it [00:00, ?it/s]",
      "application/vnd.jupyter.widget-view+json": {
       "version_major": 2,
       "version_minor": 0,
       "model_id": "40ff46c9dd4e4baaa60f6c2cb0cf3a57"
      }
     },
     "metadata": {},
     "output_type": "display_data"
    },
    {
     "name": "stderr",
     "output_type": "stream",
     "text": [
      "Epoch 65, global step 6600: 'val_loss' was not in top 1\n"
     ]
    },
    {
     "data": {
      "text/plain": "Validation: 0it [00:00, ?it/s]",
      "application/vnd.jupyter.widget-view+json": {
       "version_major": 2,
       "version_minor": 0,
       "model_id": "4e1bfe2ee6e54f438ffe72c17f14282b"
      }
     },
     "metadata": {},
     "output_type": "display_data"
    },
    {
     "name": "stderr",
     "output_type": "stream",
     "text": [
      "Epoch 66, global step 6700: 'val_loss' was not in top 1\n"
     ]
    },
    {
     "data": {
      "text/plain": "Validation: 0it [00:00, ?it/s]",
      "application/vnd.jupyter.widget-view+json": {
       "version_major": 2,
       "version_minor": 0,
       "model_id": "305d071db2634a6bade2856ab5f1fbbb"
      }
     },
     "metadata": {},
     "output_type": "display_data"
    },
    {
     "name": "stderr",
     "output_type": "stream",
     "text": [
      "Epoch 67, global step 6800: 'val_loss' reached 2.89967 (best 2.89967), saving model to 'C:\\\\Users\\\\maerzale\\\\OneDrive - adidas\\\\ConvTS Mixer\\\\lightning_logs\\\\version_42\\\\checkpoints\\\\epoch=67-step=6800.ckpt' as top 1\n"
     ]
    },
    {
     "data": {
      "text/plain": "Validation: 0it [00:00, ?it/s]",
      "application/vnd.jupyter.widget-view+json": {
       "version_major": 2,
       "version_minor": 0,
       "model_id": "cf7c027d0df644b799eb1eb1d6d4b5f1"
      }
     },
     "metadata": {},
     "output_type": "display_data"
    },
    {
     "name": "stderr",
     "output_type": "stream",
     "text": [
      "Epoch 68, global step 6900: 'val_loss' was not in top 1\n"
     ]
    },
    {
     "data": {
      "text/plain": "Validation: 0it [00:00, ?it/s]",
      "application/vnd.jupyter.widget-view+json": {
       "version_major": 2,
       "version_minor": 0,
       "model_id": "18d2500e436f4054bab9985fca558566"
      }
     },
     "metadata": {},
     "output_type": "display_data"
    },
    {
     "name": "stderr",
     "output_type": "stream",
     "text": [
      "Epoch 69, global step 7000: 'val_loss' reached 2.88015 (best 2.88015), saving model to 'C:\\\\Users\\\\maerzale\\\\OneDrive - adidas\\\\ConvTS Mixer\\\\lightning_logs\\\\version_42\\\\checkpoints\\\\epoch=69-step=7000.ckpt' as top 1\n"
     ]
    },
    {
     "data": {
      "text/plain": "Validation: 0it [00:00, ?it/s]",
      "application/vnd.jupyter.widget-view+json": {
       "version_major": 2,
       "version_minor": 0,
       "model_id": "5a7b3f34230847679200a8a5c4f9cbe1"
      }
     },
     "metadata": {},
     "output_type": "display_data"
    },
    {
     "name": "stderr",
     "output_type": "stream",
     "text": [
      "Epoch 70, global step 7100: 'val_loss' was not in top 1\n"
     ]
    },
    {
     "data": {
      "text/plain": "Validation: 0it [00:00, ?it/s]",
      "application/vnd.jupyter.widget-view+json": {
       "version_major": 2,
       "version_minor": 0,
       "model_id": "dd099839c942459ca42235ea8f8f04f5"
      }
     },
     "metadata": {},
     "output_type": "display_data"
    },
    {
     "name": "stderr",
     "output_type": "stream",
     "text": [
      "Epoch 71, global step 7200: 'val_loss' was not in top 1\n"
     ]
    },
    {
     "data": {
      "text/plain": "Validation: 0it [00:00, ?it/s]",
      "application/vnd.jupyter.widget-view+json": {
       "version_major": 2,
       "version_minor": 0,
       "model_id": "936c0cd185624a61aa58fbc6c7e0c90e"
      }
     },
     "metadata": {},
     "output_type": "display_data"
    },
    {
     "name": "stderr",
     "output_type": "stream",
     "text": [
      "Epoch 72, global step 7300: 'val_loss' was not in top 1\n"
     ]
    },
    {
     "data": {
      "text/plain": "Validation: 0it [00:00, ?it/s]",
      "application/vnd.jupyter.widget-view+json": {
       "version_major": 2,
       "version_minor": 0,
       "model_id": "42aefa8f3bf848baa6e7d4b9b13a88fb"
      }
     },
     "metadata": {},
     "output_type": "display_data"
    },
    {
     "name": "stderr",
     "output_type": "stream",
     "text": [
      "Epoch 73, global step 7400: 'val_loss' was not in top 1\n"
     ]
    },
    {
     "data": {
      "text/plain": "Validation: 0it [00:00, ?it/s]",
      "application/vnd.jupyter.widget-view+json": {
       "version_major": 2,
       "version_minor": 0,
       "model_id": "eef7d48853c540d3af0e56727e16a190"
      }
     },
     "metadata": {},
     "output_type": "display_data"
    },
    {
     "name": "stderr",
     "output_type": "stream",
     "text": [
      "Epoch 74, global step 7500: 'val_loss' was not in top 1\n"
     ]
    },
    {
     "data": {
      "text/plain": "Validation: 0it [00:00, ?it/s]",
      "application/vnd.jupyter.widget-view+json": {
       "version_major": 2,
       "version_minor": 0,
       "model_id": "930294f860ff4f3aa03ea13bd3e01dbd"
      }
     },
     "metadata": {},
     "output_type": "display_data"
    },
    {
     "name": "stderr",
     "output_type": "stream",
     "text": [
      "Epoch 75, global step 7600: 'val_loss' was not in top 1\n"
     ]
    },
    {
     "data": {
      "text/plain": "Validation: 0it [00:00, ?it/s]",
      "application/vnd.jupyter.widget-view+json": {
       "version_major": 2,
       "version_minor": 0,
       "model_id": "cbd3eae5b8c949229c0cb7af1052949c"
      }
     },
     "metadata": {},
     "output_type": "display_data"
    },
    {
     "name": "stderr",
     "output_type": "stream",
     "text": [
      "Epoch 76, global step 7700: 'val_loss' reached 2.87798 (best 2.87798), saving model to 'C:\\\\Users\\\\maerzale\\\\OneDrive - adidas\\\\ConvTS Mixer\\\\lightning_logs\\\\version_42\\\\checkpoints\\\\epoch=76-step=7700.ckpt' as top 1\n"
     ]
    },
    {
     "data": {
      "text/plain": "Validation: 0it [00:00, ?it/s]",
      "application/vnd.jupyter.widget-view+json": {
       "version_major": 2,
       "version_minor": 0,
       "model_id": "ff92034e87a6490990dae7fbc1743d9c"
      }
     },
     "metadata": {},
     "output_type": "display_data"
    },
    {
     "name": "stderr",
     "output_type": "stream",
     "text": [
      "Epoch 77, global step 7800: 'val_loss' was not in top 1\n"
     ]
    },
    {
     "data": {
      "text/plain": "Validation: 0it [00:00, ?it/s]",
      "application/vnd.jupyter.widget-view+json": {
       "version_major": 2,
       "version_minor": 0,
       "model_id": "7bc9f26726194907bd1452879871e96e"
      }
     },
     "metadata": {},
     "output_type": "display_data"
    },
    {
     "name": "stderr",
     "output_type": "stream",
     "text": [
      "Epoch 78, global step 7900: 'val_loss' was not in top 1\n"
     ]
    },
    {
     "data": {
      "text/plain": "Validation: 0it [00:00, ?it/s]",
      "application/vnd.jupyter.widget-view+json": {
       "version_major": 2,
       "version_minor": 0,
       "model_id": "42fd44087f5043a0905f2b4b95bc78d9"
      }
     },
     "metadata": {},
     "output_type": "display_data"
    },
    {
     "name": "stderr",
     "output_type": "stream",
     "text": [
      "Epoch 79, global step 8000: 'val_loss' was not in top 1\n"
     ]
    },
    {
     "data": {
      "text/plain": "Validation: 0it [00:00, ?it/s]",
      "application/vnd.jupyter.widget-view+json": {
       "version_major": 2,
       "version_minor": 0,
       "model_id": "4f0c6a98dc9b4a36981a858a359c496b"
      }
     },
     "metadata": {},
     "output_type": "display_data"
    },
    {
     "name": "stderr",
     "output_type": "stream",
     "text": [
      "Epoch 80, global step 8100: 'val_loss' was not in top 1\n"
     ]
    },
    {
     "data": {
      "text/plain": "Validation: 0it [00:00, ?it/s]",
      "application/vnd.jupyter.widget-view+json": {
       "version_major": 2,
       "version_minor": 0,
       "model_id": "d9d2734cdc444676acc9324a9141db35"
      }
     },
     "metadata": {},
     "output_type": "display_data"
    },
    {
     "name": "stderr",
     "output_type": "stream",
     "text": [
      "Epoch 81, global step 8200: 'val_loss' was not in top 1\n"
     ]
    },
    {
     "data": {
      "text/plain": "Validation: 0it [00:00, ?it/s]",
      "application/vnd.jupyter.widget-view+json": {
       "version_major": 2,
       "version_minor": 0,
       "model_id": "d26795d3721740a2aacfc2a281071281"
      }
     },
     "metadata": {},
     "output_type": "display_data"
    },
    {
     "name": "stderr",
     "output_type": "stream",
     "text": [
      "Epoch 82, global step 8300: 'val_loss' reached 2.85457 (best 2.85457), saving model to 'C:\\\\Users\\\\maerzale\\\\OneDrive - adidas\\\\ConvTS Mixer\\\\lightning_logs\\\\version_42\\\\checkpoints\\\\epoch=82-step=8300.ckpt' as top 1\n"
     ]
    },
    {
     "data": {
      "text/plain": "Validation: 0it [00:00, ?it/s]",
      "application/vnd.jupyter.widget-view+json": {
       "version_major": 2,
       "version_minor": 0,
       "model_id": "9c66375ea76a4cc89ca9db8a148ea42d"
      }
     },
     "metadata": {},
     "output_type": "display_data"
    },
    {
     "name": "stderr",
     "output_type": "stream",
     "text": [
      "Epoch 83, global step 8400: 'val_loss' was not in top 1\n"
     ]
    },
    {
     "data": {
      "text/plain": "Validation: 0it [00:00, ?it/s]",
      "application/vnd.jupyter.widget-view+json": {
       "version_major": 2,
       "version_minor": 0,
       "model_id": "f239e2b861054d57b1c74c4949bc8a74"
      }
     },
     "metadata": {},
     "output_type": "display_data"
    },
    {
     "name": "stderr",
     "output_type": "stream",
     "text": [
      "Epoch 84, global step 8500: 'val_loss' reached 2.82988 (best 2.82988), saving model to 'C:\\\\Users\\\\maerzale\\\\OneDrive - adidas\\\\ConvTS Mixer\\\\lightning_logs\\\\version_42\\\\checkpoints\\\\epoch=84-step=8500.ckpt' as top 1\n"
     ]
    },
    {
     "data": {
      "text/plain": "Validation: 0it [00:00, ?it/s]",
      "application/vnd.jupyter.widget-view+json": {
       "version_major": 2,
       "version_minor": 0,
       "model_id": "932e1a2a48b64e3aa8e270f8c9c95ede"
      }
     },
     "metadata": {},
     "output_type": "display_data"
    },
    {
     "name": "stderr",
     "output_type": "stream",
     "text": [
      "Epoch 85, global step 8600: 'val_loss' was not in top 1\n"
     ]
    },
    {
     "data": {
      "text/plain": "Validation: 0it [00:00, ?it/s]",
      "application/vnd.jupyter.widget-view+json": {
       "version_major": 2,
       "version_minor": 0,
       "model_id": "0b3b3905e1504adba94e0eaa67ed76eb"
      }
     },
     "metadata": {},
     "output_type": "display_data"
    },
    {
     "name": "stderr",
     "output_type": "stream",
     "text": [
      "Epoch 86, global step 8700: 'val_loss' was not in top 1\n"
     ]
    },
    {
     "data": {
      "text/plain": "Validation: 0it [00:00, ?it/s]",
      "application/vnd.jupyter.widget-view+json": {
       "version_major": 2,
       "version_minor": 0,
       "model_id": "29d80414c8ce4a99a5e1e031655674ca"
      }
     },
     "metadata": {},
     "output_type": "display_data"
    },
    {
     "name": "stderr",
     "output_type": "stream",
     "text": [
      "Epoch 87, global step 8800: 'val_loss' reached 2.81132 (best 2.81132), saving model to 'C:\\\\Users\\\\maerzale\\\\OneDrive - adidas\\\\ConvTS Mixer\\\\lightning_logs\\\\version_42\\\\checkpoints\\\\epoch=87-step=8800.ckpt' as top 1\n"
     ]
    },
    {
     "data": {
      "text/plain": "Validation: 0it [00:00, ?it/s]",
      "application/vnd.jupyter.widget-view+json": {
       "version_major": 2,
       "version_minor": 0,
       "model_id": "0ceaee681ff0420cb8e30688f194be1b"
      }
     },
     "metadata": {},
     "output_type": "display_data"
    },
    {
     "name": "stderr",
     "output_type": "stream",
     "text": [
      "Epoch 88, global step 8900: 'val_loss' was not in top 1\n"
     ]
    },
    {
     "data": {
      "text/plain": "Validation: 0it [00:00, ?it/s]",
      "application/vnd.jupyter.widget-view+json": {
       "version_major": 2,
       "version_minor": 0,
       "model_id": "918af797bcbb4600a4841f180a8934be"
      }
     },
     "metadata": {},
     "output_type": "display_data"
    },
    {
     "name": "stderr",
     "output_type": "stream",
     "text": [
      "Epoch 89, global step 9000: 'val_loss' was not in top 1\n"
     ]
    },
    {
     "data": {
      "text/plain": "Validation: 0it [00:00, ?it/s]",
      "application/vnd.jupyter.widget-view+json": {
       "version_major": 2,
       "version_minor": 0,
       "model_id": "4ffe1359c15e4e48b4bfda2b41b8b72d"
      }
     },
     "metadata": {},
     "output_type": "display_data"
    },
    {
     "name": "stderr",
     "output_type": "stream",
     "text": [
      "Epoch 90, global step 9100: 'val_loss' was not in top 1\n"
     ]
    },
    {
     "data": {
      "text/plain": "Validation: 0it [00:00, ?it/s]",
      "application/vnd.jupyter.widget-view+json": {
       "version_major": 2,
       "version_minor": 0,
       "model_id": "695a542c0c9f44e4b05fdc833a26a0a5"
      }
     },
     "metadata": {},
     "output_type": "display_data"
    },
    {
     "name": "stderr",
     "output_type": "stream",
     "text": [
      "Epoch 91, global step 9200: 'val_loss' was not in top 1\n"
     ]
    },
    {
     "data": {
      "text/plain": "Validation: 0it [00:00, ?it/s]",
      "application/vnd.jupyter.widget-view+json": {
       "version_major": 2,
       "version_minor": 0,
       "model_id": "0fa677479ed244c49258bbc407cd1ca1"
      }
     },
     "metadata": {},
     "output_type": "display_data"
    },
    {
     "name": "stderr",
     "output_type": "stream",
     "text": [
      "Epoch 92, global step 9300: 'val_loss' was not in top 1\n"
     ]
    },
    {
     "data": {
      "text/plain": "Validation: 0it [00:00, ?it/s]",
      "application/vnd.jupyter.widget-view+json": {
       "version_major": 2,
       "version_minor": 0,
       "model_id": "aac9c45c65e84e01998b715c6992fb04"
      }
     },
     "metadata": {},
     "output_type": "display_data"
    },
    {
     "name": "stderr",
     "output_type": "stream",
     "text": [
      "Epoch 93, global step 9400: 'val_loss' reached 2.79399 (best 2.79399), saving model to 'C:\\\\Users\\\\maerzale\\\\OneDrive - adidas\\\\ConvTS Mixer\\\\lightning_logs\\\\version_42\\\\checkpoints\\\\epoch=93-step=9400.ckpt' as top 1\n"
     ]
    },
    {
     "data": {
      "text/plain": "Validation: 0it [00:00, ?it/s]",
      "application/vnd.jupyter.widget-view+json": {
       "version_major": 2,
       "version_minor": 0,
       "model_id": "9c512472a3884a3b841a4449c660f3e7"
      }
     },
     "metadata": {},
     "output_type": "display_data"
    },
    {
     "name": "stderr",
     "output_type": "stream",
     "text": [
      "Epoch 94, global step 9500: 'val_loss' was not in top 1\n"
     ]
    },
    {
     "data": {
      "text/plain": "Validation: 0it [00:00, ?it/s]",
      "application/vnd.jupyter.widget-view+json": {
       "version_major": 2,
       "version_minor": 0,
       "model_id": "98741005b1cd48e492703ce8de6b3b72"
      }
     },
     "metadata": {},
     "output_type": "display_data"
    },
    {
     "name": "stderr",
     "output_type": "stream",
     "text": [
      "Epoch 95, global step 9600: 'val_loss' was not in top 1\n"
     ]
    },
    {
     "data": {
      "text/plain": "Validation: 0it [00:00, ?it/s]",
      "application/vnd.jupyter.widget-view+json": {
       "version_major": 2,
       "version_minor": 0,
       "model_id": "34a13900521d4a809bf7cc2d77e5f163"
      }
     },
     "metadata": {},
     "output_type": "display_data"
    },
    {
     "name": "stderr",
     "output_type": "stream",
     "text": [
      "Epoch 96, global step 9700: 'val_loss' was not in top 1\n"
     ]
    },
    {
     "data": {
      "text/plain": "Validation: 0it [00:00, ?it/s]",
      "application/vnd.jupyter.widget-view+json": {
       "version_major": 2,
       "version_minor": 0,
       "model_id": "b33995ceb2a641118f801ee32f8092ac"
      }
     },
     "metadata": {},
     "output_type": "display_data"
    },
    {
     "name": "stderr",
     "output_type": "stream",
     "text": [
      "Epoch 97, global step 9800: 'val_loss' reached 2.79369 (best 2.79369), saving model to 'C:\\\\Users\\\\maerzale\\\\OneDrive - adidas\\\\ConvTS Mixer\\\\lightning_logs\\\\version_42\\\\checkpoints\\\\epoch=97-step=9800.ckpt' as top 1\n"
     ]
    },
    {
     "data": {
      "text/plain": "Validation: 0it [00:00, ?it/s]",
      "application/vnd.jupyter.widget-view+json": {
       "version_major": 2,
       "version_minor": 0,
       "model_id": "d3d00dd1f9954ab2b46c3fe8e432015e"
      }
     },
     "metadata": {},
     "output_type": "display_data"
    },
    {
     "name": "stderr",
     "output_type": "stream",
     "text": [
      "Epoch 98, global step 9900: 'val_loss' was not in top 1\n"
     ]
    },
    {
     "data": {
      "text/plain": "Validation: 0it [00:00, ?it/s]",
      "application/vnd.jupyter.widget-view+json": {
       "version_major": 2,
       "version_minor": 0,
       "model_id": "3de6789b7ea4463a8b7154dad4ca9377"
      }
     },
     "metadata": {},
     "output_type": "display_data"
    },
    {
     "name": "stderr",
     "output_type": "stream",
     "text": [
      "Epoch 99, global step 10000: 'val_loss' was not in top 1\n",
      "`Trainer.fit` stopped: `max_epochs=100` reached.\n"
     ]
    }
   ],
   "source": [
    "predictor = estimator.train(\n",
    "    training_data=dataset.train, \n",
    "    cache_data=True, \n",
    "    shuffle_buffer_length=1024, \n",
    "    validation_data=dataset.test\n",
    ")"
   ]
  },
  {
   "cell_type": "code",
   "execution_count": 6,
   "id": "3426e0bc",
   "metadata": {},
   "outputs": [],
   "source": [
    "forecast_it, ts_it = make_evaluation_predictions(\n",
    "    dataset=dataset.test,\n",
    "    predictor=predictor,\n",
    ")"
   ]
  },
  {
   "cell_type": "code",
   "execution_count": 7,
   "id": "7567d948",
   "metadata": {},
   "outputs": [],
   "source": [
    "forecasts = list(forecast_it)"
   ]
  },
  {
   "cell_type": "code",
   "execution_count": 8,
   "id": "94bd4ec0",
   "metadata": {},
   "outputs": [],
   "source": [
    "tss = list(ts_it)"
   ]
  },
  {
   "cell_type": "code",
   "execution_count": 9,
   "id": "b96e5127",
   "metadata": {},
   "outputs": [],
   "source": [
    "evaluator = Evaluator()"
   ]
  },
  {
   "cell_type": "code",
   "execution_count": 10,
   "id": "f5946f54",
   "metadata": {},
   "outputs": [
    {
     "name": "stderr",
     "output_type": "stream",
     "text": [
      "Running evaluation: 959it [00:37, 25.71it/s]\n"
     ]
    }
   ],
   "source": [
    "agg_metrics, ts_metrics = evaluator(iter(tss), iter(forecasts))"
   ]
  },
  {
   "cell_type": "code",
   "execution_count": 11,
   "id": "d5a6367c",
   "metadata": {},
   "outputs": [
    {
     "data": {
      "text/plain": "{'MSE': 1117.3359811542182,\n 'abs_error': 354352.3406829834,\n 'abs_target_sum': 708873.5020904541,\n 'abs_target_mean': 30.799161543728452,\n 'seasonal_error': 13.175128459742648,\n 'MASE': 1.174115306788035,\n 'MAPE': 2.2070195423584384,\n 'sMAPE': 1.3943707163150751,\n 'MSIS': 16.713589078762283,\n 'QuantileLoss[0.1]': 165331.86161701236,\n 'Coverage[0.1]': 0.08628779979144943,\n 'QuantileLoss[0.2]': 227006.9120241225,\n 'Coverage[0.2]': 0.13525373653110878,\n 'QuantileLoss[0.3]': 284384.9347914278,\n 'Coverage[0.3]': 0.21680570038234273,\n 'QuantileLoss[0.4]': 328967.90251581516,\n 'Coverage[0.4]': 0.3874695863746959,\n 'QuantileLoss[0.5]': 354352.3400170505,\n 'Coverage[0.5]': 0.5659106708376782,\n 'QuantileLoss[0.6]': 360969.92163823097,\n 'Coverage[0.6]': 0.6745742092457422,\n 'QuantileLoss[0.7]': 355918.4564570256,\n 'Coverage[0.7]': 0.7504779283976365,\n 'QuantileLoss[0.8]': 335255.8668870315,\n 'Coverage[0.8]': 0.803658324643726,\n 'QuantileLoss[0.9]': 276808.37450419366,\n 'Coverage[0.9]': 0.863486270420577,\n 'RMSE': 33.42657597113737,\n 'NRMSE': 1.0853079855332597,\n 'ND': 0.4998809232366639,\n 'wQuantileLoss[0.1]': 0.23323182645345317,\n 'wQuantileLoss[0.2]': 0.3202361371312139,\n 'wQuantileLoss[0.3]': 0.40117867849874794,\n 'wQuantileLoss[0.4]': 0.4640713773976531,\n 'wQuantileLoss[0.5]': 0.49988092229723974,\n 'wQuantileLoss[0.6]': 0.509216271413359,\n 'wQuantileLoss[0.7]': 0.5020902254174109,\n 'wQuantileLoss[0.8]': 0.4729417391091196,\n 'wQuantileLoss[0.9]': 0.39049050879725533,\n 'mean_absolute_QuantileLoss': 298777.3967168789,\n 'mean_wQuantileLoss': 0.4214819651683836,\n 'MAE_Coverage': 0.37160043254933767,\n 'OWA': nan}"
     },
     "execution_count": 11,
     "metadata": {},
     "output_type": "execute_result"
    }
   ],
   "source": [
    "agg_metrics"
   ]
  },
  {
   "cell_type": "code",
   "execution_count": 12,
   "id": "dfd2ad06",
   "metadata": {},
   "outputs": [
    {
     "data": {
      "text/plain": "<Figure size 2000x1500 with 9 Axes>",
      "image/png": "[encoded data removed]"
     },
     "metadata": {},
     "output_type": "display_data"
    }
   ],
   "source": [
    "plt.figure(figsize=(20, 15))\n",
    "date_formater = mdates.DateFormatter('%b, %d')\n",
    "plt.rcParams.update({'font.size': 15})\n",
    "\n",
    "for idx, (forecast, ts) in islice(enumerate(zip(forecasts, tss)), 9):\n",
    "    ax = plt.subplot(3, 3, idx+1)\n",
    "\n",
    "    plt.plot(ts[-4 * dataset.metadata.prediction_length:].to_timestamp(), label=\"target\", )\n",
    "    forecast.plot( color='g')\n",
    "    plt.xticks(rotation=60)\n",
    "    ax.xaxis.set_major_formatter(date_formater)\n",
    "    ax.set_title(forecast.item_id)\n",
    "\n",
    "plt.gcf().tight_layout()\n",
    "plt.legend()\n",
    "plt.show()"
   ]
  }
 ],
 "metadata": {
  "kernelspec": {
   "display_name": "Python 3 (ipykernel)",
   "language": "python",
   "name": "python3"
  },
  "language_info": {
   "codemirror_mode": {
    "name": "ipython",
    "version": 3
   },
   "file_extension": ".py",
   "mimetype": "text/x-python",
   "name": "python",
   "nbconvert_exporter": "python",
   "pygments_lexer": "ipython3",
   "version": "3.10.10"
  }
 },
 "nbformat": 4,
 "nbformat_minor": 5
}
